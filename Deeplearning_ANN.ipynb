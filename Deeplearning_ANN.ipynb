{
  "nbformat": 4,
  "nbformat_minor": 0,
  "metadata": {
    "colab": {
      "name": "Deeplearning - ANN.ipynb",
      "provenance": []
    },
    "kernelspec": {
      "name": "python3",
      "display_name": "Python 3"
    },
    "language_info": {
      "name": "python"
    },
    "accelerator": "GPU",
    "gpuClass": "standard"
  },
  "cells": [
    {
      "cell_type": "code",
      "source": [
        "## import some basics libraries\n",
        "import numpy as np\n",
        "import matplotlib.pyplot as plt\n",
        "import pandas as pd"
      ],
      "metadata": {
        "id": "lFHVbl1bc0HU"
      },
      "execution_count": 1,
      "outputs": []
    },
    {
      "cell_type": "code",
      "source": [
        "dataset=pd.read_csv('Churn_Modelling.csv')\n",
        "dataset.head()"
      ],
      "metadata": {
        "colab": {
          "base_uri": "https://localhost:8080/",
          "height": 270
        },
        "id": "ipJkWThcdB5-",
        "outputId": "3b1267c6-9b1d-4347-9452-2802337ce936"
      },
      "execution_count": 2,
      "outputs": [
        {
          "output_type": "execute_result",
          "data": {
            "text/plain": [
              "   RowNumber  CustomerId   Surname  CreditScore Geography  Gender  Age  \\\n",
              "0          1    15634602  Hargrave          619    France  Female   42   \n",
              "1          2    15647311      Hill          608     Spain  Female   41   \n",
              "2          3    15619304      Onio          502    France  Female   42   \n",
              "3          4    15701354      Boni          699    France  Female   39   \n",
              "4          5    15737888  Mitchell          850     Spain  Female   43   \n",
              "\n",
              "   Tenure    Balance  NumOfProducts  HasCrCard  IsActiveMember  \\\n",
              "0       2       0.00              1          1               1   \n",
              "1       1   83807.86              1          0               1   \n",
              "2       8  159660.80              3          1               0   \n",
              "3       1       0.00              2          0               0   \n",
              "4       2  125510.82              1          1               1   \n",
              "\n",
              "   EstimatedSalary  Exited  \n",
              "0        101348.88       1  \n",
              "1        112542.58       0  \n",
              "2        113931.57       1  \n",
              "3         93826.63       0  \n",
              "4         79084.10       0  "
            ],
            "text/html": [
              "\n",
              "  <div id=\"df-d66b02d4-7f64-47c1-bf4e-ee4a57a6bd94\">\n",
              "    <div class=\"colab-df-container\">\n",
              "      <div>\n",
              "<style scoped>\n",
              "    .dataframe tbody tr th:only-of-type {\n",
              "        vertical-align: middle;\n",
              "    }\n",
              "\n",
              "    .dataframe tbody tr th {\n",
              "        vertical-align: top;\n",
              "    }\n",
              "\n",
              "    .dataframe thead th {\n",
              "        text-align: right;\n",
              "    }\n",
              "</style>\n",
              "<table border=\"1\" class=\"dataframe\">\n",
              "  <thead>\n",
              "    <tr style=\"text-align: right;\">\n",
              "      <th></th>\n",
              "      <th>RowNumber</th>\n",
              "      <th>CustomerId</th>\n",
              "      <th>Surname</th>\n",
              "      <th>CreditScore</th>\n",
              "      <th>Geography</th>\n",
              "      <th>Gender</th>\n",
              "      <th>Age</th>\n",
              "      <th>Tenure</th>\n",
              "      <th>Balance</th>\n",
              "      <th>NumOfProducts</th>\n",
              "      <th>HasCrCard</th>\n",
              "      <th>IsActiveMember</th>\n",
              "      <th>EstimatedSalary</th>\n",
              "      <th>Exited</th>\n",
              "    </tr>\n",
              "  </thead>\n",
              "  <tbody>\n",
              "    <tr>\n",
              "      <th>0</th>\n",
              "      <td>1</td>\n",
              "      <td>15634602</td>\n",
              "      <td>Hargrave</td>\n",
              "      <td>619</td>\n",
              "      <td>France</td>\n",
              "      <td>Female</td>\n",
              "      <td>42</td>\n",
              "      <td>2</td>\n",
              "      <td>0.00</td>\n",
              "      <td>1</td>\n",
              "      <td>1</td>\n",
              "      <td>1</td>\n",
              "      <td>101348.88</td>\n",
              "      <td>1</td>\n",
              "    </tr>\n",
              "    <tr>\n",
              "      <th>1</th>\n",
              "      <td>2</td>\n",
              "      <td>15647311</td>\n",
              "      <td>Hill</td>\n",
              "      <td>608</td>\n",
              "      <td>Spain</td>\n",
              "      <td>Female</td>\n",
              "      <td>41</td>\n",
              "      <td>1</td>\n",
              "      <td>83807.86</td>\n",
              "      <td>1</td>\n",
              "      <td>0</td>\n",
              "      <td>1</td>\n",
              "      <td>112542.58</td>\n",
              "      <td>0</td>\n",
              "    </tr>\n",
              "    <tr>\n",
              "      <th>2</th>\n",
              "      <td>3</td>\n",
              "      <td>15619304</td>\n",
              "      <td>Onio</td>\n",
              "      <td>502</td>\n",
              "      <td>France</td>\n",
              "      <td>Female</td>\n",
              "      <td>42</td>\n",
              "      <td>8</td>\n",
              "      <td>159660.80</td>\n",
              "      <td>3</td>\n",
              "      <td>1</td>\n",
              "      <td>0</td>\n",
              "      <td>113931.57</td>\n",
              "      <td>1</td>\n",
              "    </tr>\n",
              "    <tr>\n",
              "      <th>3</th>\n",
              "      <td>4</td>\n",
              "      <td>15701354</td>\n",
              "      <td>Boni</td>\n",
              "      <td>699</td>\n",
              "      <td>France</td>\n",
              "      <td>Female</td>\n",
              "      <td>39</td>\n",
              "      <td>1</td>\n",
              "      <td>0.00</td>\n",
              "      <td>2</td>\n",
              "      <td>0</td>\n",
              "      <td>0</td>\n",
              "      <td>93826.63</td>\n",
              "      <td>0</td>\n",
              "    </tr>\n",
              "    <tr>\n",
              "      <th>4</th>\n",
              "      <td>5</td>\n",
              "      <td>15737888</td>\n",
              "      <td>Mitchell</td>\n",
              "      <td>850</td>\n",
              "      <td>Spain</td>\n",
              "      <td>Female</td>\n",
              "      <td>43</td>\n",
              "      <td>2</td>\n",
              "      <td>125510.82</td>\n",
              "      <td>1</td>\n",
              "      <td>1</td>\n",
              "      <td>1</td>\n",
              "      <td>79084.10</td>\n",
              "      <td>0</td>\n",
              "    </tr>\n",
              "  </tbody>\n",
              "</table>\n",
              "</div>\n",
              "      <button class=\"colab-df-convert\" onclick=\"convertToInteractive('df-d66b02d4-7f64-47c1-bf4e-ee4a57a6bd94')\"\n",
              "              title=\"Convert this dataframe to an interactive table.\"\n",
              "              style=\"display:none;\">\n",
              "        \n",
              "  <svg xmlns=\"http://www.w3.org/2000/svg\" height=\"24px\"viewBox=\"0 0 24 24\"\n",
              "       width=\"24px\">\n",
              "    <path d=\"M0 0h24v24H0V0z\" fill=\"none\"/>\n",
              "    <path d=\"M18.56 5.44l.94 2.06.94-2.06 2.06-.94-2.06-.94-.94-2.06-.94 2.06-2.06.94zm-11 1L8.5 8.5l.94-2.06 2.06-.94-2.06-.94L8.5 2.5l-.94 2.06-2.06.94zm10 10l.94 2.06.94-2.06 2.06-.94-2.06-.94-.94-2.06-.94 2.06-2.06.94z\"/><path d=\"M17.41 7.96l-1.37-1.37c-.4-.4-.92-.59-1.43-.59-.52 0-1.04.2-1.43.59L10.3 9.45l-7.72 7.72c-.78.78-.78 2.05 0 2.83L4 21.41c.39.39.9.59 1.41.59.51 0 1.02-.2 1.41-.59l7.78-7.78 2.81-2.81c.8-.78.8-2.07 0-2.86zM5.41 20L4 18.59l7.72-7.72 1.47 1.35L5.41 20z\"/>\n",
              "  </svg>\n",
              "      </button>\n",
              "      \n",
              "  <style>\n",
              "    .colab-df-container {\n",
              "      display:flex;\n",
              "      flex-wrap:wrap;\n",
              "      gap: 12px;\n",
              "    }\n",
              "\n",
              "    .colab-df-convert {\n",
              "      background-color: #E8F0FE;\n",
              "      border: none;\n",
              "      border-radius: 50%;\n",
              "      cursor: pointer;\n",
              "      display: none;\n",
              "      fill: #1967D2;\n",
              "      height: 32px;\n",
              "      padding: 0 0 0 0;\n",
              "      width: 32px;\n",
              "    }\n",
              "\n",
              "    .colab-df-convert:hover {\n",
              "      background-color: #E2EBFA;\n",
              "      box-shadow: 0px 1px 2px rgba(60, 64, 67, 0.3), 0px 1px 3px 1px rgba(60, 64, 67, 0.15);\n",
              "      fill: #174EA6;\n",
              "    }\n",
              "\n",
              "    [theme=dark] .colab-df-convert {\n",
              "      background-color: #3B4455;\n",
              "      fill: #D2E3FC;\n",
              "    }\n",
              "\n",
              "    [theme=dark] .colab-df-convert:hover {\n",
              "      background-color: #434B5C;\n",
              "      box-shadow: 0px 1px 3px 1px rgba(0, 0, 0, 0.15);\n",
              "      filter: drop-shadow(0px 1px 2px rgba(0, 0, 0, 0.3));\n",
              "      fill: #FFFFFF;\n",
              "    }\n",
              "  </style>\n",
              "\n",
              "      <script>\n",
              "        const buttonEl =\n",
              "          document.querySelector('#df-d66b02d4-7f64-47c1-bf4e-ee4a57a6bd94 button.colab-df-convert');\n",
              "        buttonEl.style.display =\n",
              "          google.colab.kernel.accessAllowed ? 'block' : 'none';\n",
              "\n",
              "        async function convertToInteractive(key) {\n",
              "          const element = document.querySelector('#df-d66b02d4-7f64-47c1-bf4e-ee4a57a6bd94');\n",
              "          const dataTable =\n",
              "            await google.colab.kernel.invokeFunction('convertToInteractive',\n",
              "                                                     [key], {});\n",
              "          if (!dataTable) return;\n",
              "\n",
              "          const docLinkHtml = 'Like what you see? Visit the ' +\n",
              "            '<a target=\"_blank\" href=https://colab.research.google.com/notebooks/data_table.ipynb>data table notebook</a>'\n",
              "            + ' to learn more about interactive tables.';\n",
              "          element.innerHTML = '';\n",
              "          dataTable['output_type'] = 'display_data';\n",
              "          await google.colab.output.renderOutput(dataTable, element);\n",
              "          const docLink = document.createElement('div');\n",
              "          docLink.innerHTML = docLinkHtml;\n",
              "          element.appendChild(docLink);\n",
              "        }\n",
              "      </script>\n",
              "    </div>\n",
              "  </div>\n",
              "  "
            ]
          },
          "metadata": {},
          "execution_count": 2
        }
      ]
    },
    {
      "cell_type": "code",
      "source": [
        "## Divide the dataset into independent and dependent features\n",
        "\n",
        "X=dataset.iloc[:,3:13]\n",
        "y=dataset.iloc[:,13]"
      ],
      "metadata": {
        "id": "YrqEbrv1dK6d"
      },
      "execution_count": 18,
      "outputs": []
    },
    {
      "cell_type": "code",
      "source": [
        "X.head()"
      ],
      "metadata": {
        "colab": {
          "base_uri": "https://localhost:8080/",
          "height": 206
        },
        "id": "i_X-xjWWd5CY",
        "outputId": "061f7313-43bb-4732-a902-7503f2ab3076"
      },
      "execution_count": 19,
      "outputs": [
        {
          "output_type": "execute_result",
          "data": {
            "text/plain": [
              "   CreditScore Geography  Gender  Age  Tenure    Balance  NumOfProducts  \\\n",
              "0          619    France  Female   42       2       0.00              1   \n",
              "1          608     Spain  Female   41       1   83807.86              1   \n",
              "2          502    France  Female   42       8  159660.80              3   \n",
              "3          699    France  Female   39       1       0.00              2   \n",
              "4          850     Spain  Female   43       2  125510.82              1   \n",
              "\n",
              "   HasCrCard  IsActiveMember  EstimatedSalary  \n",
              "0          1               1        101348.88  \n",
              "1          0               1        112542.58  \n",
              "2          1               0        113931.57  \n",
              "3          0               0         93826.63  \n",
              "4          1               1         79084.10  "
            ],
            "text/html": [
              "\n",
              "  <div id=\"df-a864a5bb-c8f5-40bf-b1fa-f88322936254\">\n",
              "    <div class=\"colab-df-container\">\n",
              "      <div>\n",
              "<style scoped>\n",
              "    .dataframe tbody tr th:only-of-type {\n",
              "        vertical-align: middle;\n",
              "    }\n",
              "\n",
              "    .dataframe tbody tr th {\n",
              "        vertical-align: top;\n",
              "    }\n",
              "\n",
              "    .dataframe thead th {\n",
              "        text-align: right;\n",
              "    }\n",
              "</style>\n",
              "<table border=\"1\" class=\"dataframe\">\n",
              "  <thead>\n",
              "    <tr style=\"text-align: right;\">\n",
              "      <th></th>\n",
              "      <th>CreditScore</th>\n",
              "      <th>Geography</th>\n",
              "      <th>Gender</th>\n",
              "      <th>Age</th>\n",
              "      <th>Tenure</th>\n",
              "      <th>Balance</th>\n",
              "      <th>NumOfProducts</th>\n",
              "      <th>HasCrCard</th>\n",
              "      <th>IsActiveMember</th>\n",
              "      <th>EstimatedSalary</th>\n",
              "    </tr>\n",
              "  </thead>\n",
              "  <tbody>\n",
              "    <tr>\n",
              "      <th>0</th>\n",
              "      <td>619</td>\n",
              "      <td>France</td>\n",
              "      <td>Female</td>\n",
              "      <td>42</td>\n",
              "      <td>2</td>\n",
              "      <td>0.00</td>\n",
              "      <td>1</td>\n",
              "      <td>1</td>\n",
              "      <td>1</td>\n",
              "      <td>101348.88</td>\n",
              "    </tr>\n",
              "    <tr>\n",
              "      <th>1</th>\n",
              "      <td>608</td>\n",
              "      <td>Spain</td>\n",
              "      <td>Female</td>\n",
              "      <td>41</td>\n",
              "      <td>1</td>\n",
              "      <td>83807.86</td>\n",
              "      <td>1</td>\n",
              "      <td>0</td>\n",
              "      <td>1</td>\n",
              "      <td>112542.58</td>\n",
              "    </tr>\n",
              "    <tr>\n",
              "      <th>2</th>\n",
              "      <td>502</td>\n",
              "      <td>France</td>\n",
              "      <td>Female</td>\n",
              "      <td>42</td>\n",
              "      <td>8</td>\n",
              "      <td>159660.80</td>\n",
              "      <td>3</td>\n",
              "      <td>1</td>\n",
              "      <td>0</td>\n",
              "      <td>113931.57</td>\n",
              "    </tr>\n",
              "    <tr>\n",
              "      <th>3</th>\n",
              "      <td>699</td>\n",
              "      <td>France</td>\n",
              "      <td>Female</td>\n",
              "      <td>39</td>\n",
              "      <td>1</td>\n",
              "      <td>0.00</td>\n",
              "      <td>2</td>\n",
              "      <td>0</td>\n",
              "      <td>0</td>\n",
              "      <td>93826.63</td>\n",
              "    </tr>\n",
              "    <tr>\n",
              "      <th>4</th>\n",
              "      <td>850</td>\n",
              "      <td>Spain</td>\n",
              "      <td>Female</td>\n",
              "      <td>43</td>\n",
              "      <td>2</td>\n",
              "      <td>125510.82</td>\n",
              "      <td>1</td>\n",
              "      <td>1</td>\n",
              "      <td>1</td>\n",
              "      <td>79084.10</td>\n",
              "    </tr>\n",
              "  </tbody>\n",
              "</table>\n",
              "</div>\n",
              "      <button class=\"colab-df-convert\" onclick=\"convertToInteractive('df-a864a5bb-c8f5-40bf-b1fa-f88322936254')\"\n",
              "              title=\"Convert this dataframe to an interactive table.\"\n",
              "              style=\"display:none;\">\n",
              "        \n",
              "  <svg xmlns=\"http://www.w3.org/2000/svg\" height=\"24px\"viewBox=\"0 0 24 24\"\n",
              "       width=\"24px\">\n",
              "    <path d=\"M0 0h24v24H0V0z\" fill=\"none\"/>\n",
              "    <path d=\"M18.56 5.44l.94 2.06.94-2.06 2.06-.94-2.06-.94-.94-2.06-.94 2.06-2.06.94zm-11 1L8.5 8.5l.94-2.06 2.06-.94-2.06-.94L8.5 2.5l-.94 2.06-2.06.94zm10 10l.94 2.06.94-2.06 2.06-.94-2.06-.94-.94-2.06-.94 2.06-2.06.94z\"/><path d=\"M17.41 7.96l-1.37-1.37c-.4-.4-.92-.59-1.43-.59-.52 0-1.04.2-1.43.59L10.3 9.45l-7.72 7.72c-.78.78-.78 2.05 0 2.83L4 21.41c.39.39.9.59 1.41.59.51 0 1.02-.2 1.41-.59l7.78-7.78 2.81-2.81c.8-.78.8-2.07 0-2.86zM5.41 20L4 18.59l7.72-7.72 1.47 1.35L5.41 20z\"/>\n",
              "  </svg>\n",
              "      </button>\n",
              "      \n",
              "  <style>\n",
              "    .colab-df-container {\n",
              "      display:flex;\n",
              "      flex-wrap:wrap;\n",
              "      gap: 12px;\n",
              "    }\n",
              "\n",
              "    .colab-df-convert {\n",
              "      background-color: #E8F0FE;\n",
              "      border: none;\n",
              "      border-radius: 50%;\n",
              "      cursor: pointer;\n",
              "      display: none;\n",
              "      fill: #1967D2;\n",
              "      height: 32px;\n",
              "      padding: 0 0 0 0;\n",
              "      width: 32px;\n",
              "    }\n",
              "\n",
              "    .colab-df-convert:hover {\n",
              "      background-color: #E2EBFA;\n",
              "      box-shadow: 0px 1px 2px rgba(60, 64, 67, 0.3), 0px 1px 3px 1px rgba(60, 64, 67, 0.15);\n",
              "      fill: #174EA6;\n",
              "    }\n",
              "\n",
              "    [theme=dark] .colab-df-convert {\n",
              "      background-color: #3B4455;\n",
              "      fill: #D2E3FC;\n",
              "    }\n",
              "\n",
              "    [theme=dark] .colab-df-convert:hover {\n",
              "      background-color: #434B5C;\n",
              "      box-shadow: 0px 1px 3px 1px rgba(0, 0, 0, 0.15);\n",
              "      filter: drop-shadow(0px 1px 2px rgba(0, 0, 0, 0.3));\n",
              "      fill: #FFFFFF;\n",
              "    }\n",
              "  </style>\n",
              "\n",
              "      <script>\n",
              "        const buttonEl =\n",
              "          document.querySelector('#df-a864a5bb-c8f5-40bf-b1fa-f88322936254 button.colab-df-convert');\n",
              "        buttonEl.style.display =\n",
              "          google.colab.kernel.accessAllowed ? 'block' : 'none';\n",
              "\n",
              "        async function convertToInteractive(key) {\n",
              "          const element = document.querySelector('#df-a864a5bb-c8f5-40bf-b1fa-f88322936254');\n",
              "          const dataTable =\n",
              "            await google.colab.kernel.invokeFunction('convertToInteractive',\n",
              "                                                     [key], {});\n",
              "          if (!dataTable) return;\n",
              "\n",
              "          const docLinkHtml = 'Like what you see? Visit the ' +\n",
              "            '<a target=\"_blank\" href=https://colab.research.google.com/notebooks/data_table.ipynb>data table notebook</a>'\n",
              "            + ' to learn more about interactive tables.';\n",
              "          element.innerHTML = '';\n",
              "          dataTable['output_type'] = 'display_data';\n",
              "          await google.colab.output.renderOutput(dataTable, element);\n",
              "          const docLink = document.createElement('div');\n",
              "          docLink.innerHTML = docLinkHtml;\n",
              "          element.appendChild(docLink);\n",
              "        }\n",
              "      </script>\n",
              "    </div>\n",
              "  </div>\n",
              "  "
            ]
          },
          "metadata": {},
          "execution_count": 19
        }
      ]
    },
    {
      "cell_type": "code",
      "source": [
        "y"
      ],
      "metadata": {
        "colab": {
          "base_uri": "https://localhost:8080/"
        },
        "id": "W7AwCePJd8DB",
        "outputId": "70fe2e60-eb68-46bb-e9bc-0939cd739d45"
      },
      "execution_count": 20,
      "outputs": [
        {
          "output_type": "execute_result",
          "data": {
            "text/plain": [
              "0       1\n",
              "1       0\n",
              "2       1\n",
              "3       0\n",
              "4       0\n",
              "       ..\n",
              "9995    0\n",
              "9996    0\n",
              "9997    1\n",
              "9998    1\n",
              "9999    0\n",
              "Name: Exited, Length: 10000, dtype: int64"
            ]
          },
          "metadata": {},
          "execution_count": 20
        }
      ]
    },
    {
      "cell_type": "code",
      "source": [
        "## Ferature Engineering \n",
        "geography=pd.get_dummies(X['Geography'],drop_first=True)\n",
        "gender=pd.get_dummies(X['Gender'],drop_first=True)"
      ],
      "metadata": {
        "id": "8Ky3VFa3d-oM"
      },
      "execution_count": 21,
      "outputs": []
    },
    {
      "cell_type": "code",
      "source": [
        "gender"
      ],
      "metadata": {
        "colab": {
          "base_uri": "https://localhost:8080/",
          "height": 424
        },
        "id": "bxI3JBgvxZtL",
        "outputId": "1f476acb-7af1-44d4-f3ff-285ac7ee2dc0"
      },
      "execution_count": 22,
      "outputs": [
        {
          "output_type": "execute_result",
          "data": {
            "text/plain": [
              "      Male\n",
              "0        0\n",
              "1        0\n",
              "2        0\n",
              "3        0\n",
              "4        0\n",
              "...    ...\n",
              "9995     1\n",
              "9996     1\n",
              "9997     0\n",
              "9998     1\n",
              "9999     0\n",
              "\n",
              "[10000 rows x 1 columns]"
            ],
            "text/html": [
              "\n",
              "  <div id=\"df-20e47afe-f85e-4738-83f0-ec40ffb84823\">\n",
              "    <div class=\"colab-df-container\">\n",
              "      <div>\n",
              "<style scoped>\n",
              "    .dataframe tbody tr th:only-of-type {\n",
              "        vertical-align: middle;\n",
              "    }\n",
              "\n",
              "    .dataframe tbody tr th {\n",
              "        vertical-align: top;\n",
              "    }\n",
              "\n",
              "    .dataframe thead th {\n",
              "        text-align: right;\n",
              "    }\n",
              "</style>\n",
              "<table border=\"1\" class=\"dataframe\">\n",
              "  <thead>\n",
              "    <tr style=\"text-align: right;\">\n",
              "      <th></th>\n",
              "      <th>Male</th>\n",
              "    </tr>\n",
              "  </thead>\n",
              "  <tbody>\n",
              "    <tr>\n",
              "      <th>0</th>\n",
              "      <td>0</td>\n",
              "    </tr>\n",
              "    <tr>\n",
              "      <th>1</th>\n",
              "      <td>0</td>\n",
              "    </tr>\n",
              "    <tr>\n",
              "      <th>2</th>\n",
              "      <td>0</td>\n",
              "    </tr>\n",
              "    <tr>\n",
              "      <th>3</th>\n",
              "      <td>0</td>\n",
              "    </tr>\n",
              "    <tr>\n",
              "      <th>4</th>\n",
              "      <td>0</td>\n",
              "    </tr>\n",
              "    <tr>\n",
              "      <th>...</th>\n",
              "      <td>...</td>\n",
              "    </tr>\n",
              "    <tr>\n",
              "      <th>9995</th>\n",
              "      <td>1</td>\n",
              "    </tr>\n",
              "    <tr>\n",
              "      <th>9996</th>\n",
              "      <td>1</td>\n",
              "    </tr>\n",
              "    <tr>\n",
              "      <th>9997</th>\n",
              "      <td>0</td>\n",
              "    </tr>\n",
              "    <tr>\n",
              "      <th>9998</th>\n",
              "      <td>1</td>\n",
              "    </tr>\n",
              "    <tr>\n",
              "      <th>9999</th>\n",
              "      <td>0</td>\n",
              "    </tr>\n",
              "  </tbody>\n",
              "</table>\n",
              "<p>10000 rows × 1 columns</p>\n",
              "</div>\n",
              "      <button class=\"colab-df-convert\" onclick=\"convertToInteractive('df-20e47afe-f85e-4738-83f0-ec40ffb84823')\"\n",
              "              title=\"Convert this dataframe to an interactive table.\"\n",
              "              style=\"display:none;\">\n",
              "        \n",
              "  <svg xmlns=\"http://www.w3.org/2000/svg\" height=\"24px\"viewBox=\"0 0 24 24\"\n",
              "       width=\"24px\">\n",
              "    <path d=\"M0 0h24v24H0V0z\" fill=\"none\"/>\n",
              "    <path d=\"M18.56 5.44l.94 2.06.94-2.06 2.06-.94-2.06-.94-.94-2.06-.94 2.06-2.06.94zm-11 1L8.5 8.5l.94-2.06 2.06-.94-2.06-.94L8.5 2.5l-.94 2.06-2.06.94zm10 10l.94 2.06.94-2.06 2.06-.94-2.06-.94-.94-2.06-.94 2.06-2.06.94z\"/><path d=\"M17.41 7.96l-1.37-1.37c-.4-.4-.92-.59-1.43-.59-.52 0-1.04.2-1.43.59L10.3 9.45l-7.72 7.72c-.78.78-.78 2.05 0 2.83L4 21.41c.39.39.9.59 1.41.59.51 0 1.02-.2 1.41-.59l7.78-7.78 2.81-2.81c.8-.78.8-2.07 0-2.86zM5.41 20L4 18.59l7.72-7.72 1.47 1.35L5.41 20z\"/>\n",
              "  </svg>\n",
              "      </button>\n",
              "      \n",
              "  <style>\n",
              "    .colab-df-container {\n",
              "      display:flex;\n",
              "      flex-wrap:wrap;\n",
              "      gap: 12px;\n",
              "    }\n",
              "\n",
              "    .colab-df-convert {\n",
              "      background-color: #E8F0FE;\n",
              "      border: none;\n",
              "      border-radius: 50%;\n",
              "      cursor: pointer;\n",
              "      display: none;\n",
              "      fill: #1967D2;\n",
              "      height: 32px;\n",
              "      padding: 0 0 0 0;\n",
              "      width: 32px;\n",
              "    }\n",
              "\n",
              "    .colab-df-convert:hover {\n",
              "      background-color: #E2EBFA;\n",
              "      box-shadow: 0px 1px 2px rgba(60, 64, 67, 0.3), 0px 1px 3px 1px rgba(60, 64, 67, 0.15);\n",
              "      fill: #174EA6;\n",
              "    }\n",
              "\n",
              "    [theme=dark] .colab-df-convert {\n",
              "      background-color: #3B4455;\n",
              "      fill: #D2E3FC;\n",
              "    }\n",
              "\n",
              "    [theme=dark] .colab-df-convert:hover {\n",
              "      background-color: #434B5C;\n",
              "      box-shadow: 0px 1px 3px 1px rgba(0, 0, 0, 0.15);\n",
              "      filter: drop-shadow(0px 1px 2px rgba(0, 0, 0, 0.3));\n",
              "      fill: #FFFFFF;\n",
              "    }\n",
              "  </style>\n",
              "\n",
              "      <script>\n",
              "        const buttonEl =\n",
              "          document.querySelector('#df-20e47afe-f85e-4738-83f0-ec40ffb84823 button.colab-df-convert');\n",
              "        buttonEl.style.display =\n",
              "          google.colab.kernel.accessAllowed ? 'block' : 'none';\n",
              "\n",
              "        async function convertToInteractive(key) {\n",
              "          const element = document.querySelector('#df-20e47afe-f85e-4738-83f0-ec40ffb84823');\n",
              "          const dataTable =\n",
              "            await google.colab.kernel.invokeFunction('convertToInteractive',\n",
              "                                                     [key], {});\n",
              "          if (!dataTable) return;\n",
              "\n",
              "          const docLinkHtml = 'Like what you see? Visit the ' +\n",
              "            '<a target=\"_blank\" href=https://colab.research.google.com/notebooks/data_table.ipynb>data table notebook</a>'\n",
              "            + ' to learn more about interactive tables.';\n",
              "          element.innerHTML = '';\n",
              "          dataTable['output_type'] = 'display_data';\n",
              "          await google.colab.output.renderOutput(dataTable, element);\n",
              "          const docLink = document.createElement('div');\n",
              "          docLink.innerHTML = docLinkHtml;\n",
              "          element.appendChild(docLink);\n",
              "        }\n",
              "      </script>\n",
              "    </div>\n",
              "  </div>\n",
              "  "
            ]
          },
          "metadata": {},
          "execution_count": 22
        }
      ]
    },
    {
      "cell_type": "code",
      "source": [
        "import tensorflow as tf\n",
        "print(tf.__version__)"
      ],
      "metadata": {
        "colab": {
          "base_uri": "https://localhost:8080/"
        },
        "id": "hz074ZOEcgmA",
        "outputId": "a848c1f7-5ab8-4776-8911-c2e1908e02ed"
      },
      "execution_count": 23,
      "outputs": [
        {
          "output_type": "stream",
          "name": "stdout",
          "text": [
            "2.8.2\n"
          ]
        }
      ]
    },
    {
      "cell_type": "code",
      "source": [
        "## concatenate these variables with dataframe\n",
        "X=X.drop(['Geography','Gender'],axis=1)"
      ],
      "metadata": {
        "id": "jdVZ5g7leWTo"
      },
      "execution_count": 24,
      "outputs": []
    },
    {
      "cell_type": "code",
      "source": [
        "X.head()"
      ],
      "metadata": {
        "colab": {
          "base_uri": "https://localhost:8080/",
          "height": 206
        },
        "id": "vyUIsoBwfA32",
        "outputId": "97b88986-4293-4d7c-9ac5-e74e224e4562"
      },
      "execution_count": 25,
      "outputs": [
        {
          "output_type": "execute_result",
          "data": {
            "text/plain": [
              "   CreditScore  Age  Tenure    Balance  NumOfProducts  HasCrCard  \\\n",
              "0          619   42       2       0.00              1          1   \n",
              "1          608   41       1   83807.86              1          0   \n",
              "2          502   42       8  159660.80              3          1   \n",
              "3          699   39       1       0.00              2          0   \n",
              "4          850   43       2  125510.82              1          1   \n",
              "\n",
              "   IsActiveMember  EstimatedSalary  \n",
              "0               1        101348.88  \n",
              "1               1        112542.58  \n",
              "2               0        113931.57  \n",
              "3               0         93826.63  \n",
              "4               1         79084.10  "
            ],
            "text/html": [
              "\n",
              "  <div id=\"df-33f12b09-3708-4f47-a9bb-7c8a5fee1406\">\n",
              "    <div class=\"colab-df-container\">\n",
              "      <div>\n",
              "<style scoped>\n",
              "    .dataframe tbody tr th:only-of-type {\n",
              "        vertical-align: middle;\n",
              "    }\n",
              "\n",
              "    .dataframe tbody tr th {\n",
              "        vertical-align: top;\n",
              "    }\n",
              "\n",
              "    .dataframe thead th {\n",
              "        text-align: right;\n",
              "    }\n",
              "</style>\n",
              "<table border=\"1\" class=\"dataframe\">\n",
              "  <thead>\n",
              "    <tr style=\"text-align: right;\">\n",
              "      <th></th>\n",
              "      <th>CreditScore</th>\n",
              "      <th>Age</th>\n",
              "      <th>Tenure</th>\n",
              "      <th>Balance</th>\n",
              "      <th>NumOfProducts</th>\n",
              "      <th>HasCrCard</th>\n",
              "      <th>IsActiveMember</th>\n",
              "      <th>EstimatedSalary</th>\n",
              "    </tr>\n",
              "  </thead>\n",
              "  <tbody>\n",
              "    <tr>\n",
              "      <th>0</th>\n",
              "      <td>619</td>\n",
              "      <td>42</td>\n",
              "      <td>2</td>\n",
              "      <td>0.00</td>\n",
              "      <td>1</td>\n",
              "      <td>1</td>\n",
              "      <td>1</td>\n",
              "      <td>101348.88</td>\n",
              "    </tr>\n",
              "    <tr>\n",
              "      <th>1</th>\n",
              "      <td>608</td>\n",
              "      <td>41</td>\n",
              "      <td>1</td>\n",
              "      <td>83807.86</td>\n",
              "      <td>1</td>\n",
              "      <td>0</td>\n",
              "      <td>1</td>\n",
              "      <td>112542.58</td>\n",
              "    </tr>\n",
              "    <tr>\n",
              "      <th>2</th>\n",
              "      <td>502</td>\n",
              "      <td>42</td>\n",
              "      <td>8</td>\n",
              "      <td>159660.80</td>\n",
              "      <td>3</td>\n",
              "      <td>1</td>\n",
              "      <td>0</td>\n",
              "      <td>113931.57</td>\n",
              "    </tr>\n",
              "    <tr>\n",
              "      <th>3</th>\n",
              "      <td>699</td>\n",
              "      <td>39</td>\n",
              "      <td>1</td>\n",
              "      <td>0.00</td>\n",
              "      <td>2</td>\n",
              "      <td>0</td>\n",
              "      <td>0</td>\n",
              "      <td>93826.63</td>\n",
              "    </tr>\n",
              "    <tr>\n",
              "      <th>4</th>\n",
              "      <td>850</td>\n",
              "      <td>43</td>\n",
              "      <td>2</td>\n",
              "      <td>125510.82</td>\n",
              "      <td>1</td>\n",
              "      <td>1</td>\n",
              "      <td>1</td>\n",
              "      <td>79084.10</td>\n",
              "    </tr>\n",
              "  </tbody>\n",
              "</table>\n",
              "</div>\n",
              "      <button class=\"colab-df-convert\" onclick=\"convertToInteractive('df-33f12b09-3708-4f47-a9bb-7c8a5fee1406')\"\n",
              "              title=\"Convert this dataframe to an interactive table.\"\n",
              "              style=\"display:none;\">\n",
              "        \n",
              "  <svg xmlns=\"http://www.w3.org/2000/svg\" height=\"24px\"viewBox=\"0 0 24 24\"\n",
              "       width=\"24px\">\n",
              "    <path d=\"M0 0h24v24H0V0z\" fill=\"none\"/>\n",
              "    <path d=\"M18.56 5.44l.94 2.06.94-2.06 2.06-.94-2.06-.94-.94-2.06-.94 2.06-2.06.94zm-11 1L8.5 8.5l.94-2.06 2.06-.94-2.06-.94L8.5 2.5l-.94 2.06-2.06.94zm10 10l.94 2.06.94-2.06 2.06-.94-2.06-.94-.94-2.06-.94 2.06-2.06.94z\"/><path d=\"M17.41 7.96l-1.37-1.37c-.4-.4-.92-.59-1.43-.59-.52 0-1.04.2-1.43.59L10.3 9.45l-7.72 7.72c-.78.78-.78 2.05 0 2.83L4 21.41c.39.39.9.59 1.41.59.51 0 1.02-.2 1.41-.59l7.78-7.78 2.81-2.81c.8-.78.8-2.07 0-2.86zM5.41 20L4 18.59l7.72-7.72 1.47 1.35L5.41 20z\"/>\n",
              "  </svg>\n",
              "      </button>\n",
              "      \n",
              "  <style>\n",
              "    .colab-df-container {\n",
              "      display:flex;\n",
              "      flex-wrap:wrap;\n",
              "      gap: 12px;\n",
              "    }\n",
              "\n",
              "    .colab-df-convert {\n",
              "      background-color: #E8F0FE;\n",
              "      border: none;\n",
              "      border-radius: 50%;\n",
              "      cursor: pointer;\n",
              "      display: none;\n",
              "      fill: #1967D2;\n",
              "      height: 32px;\n",
              "      padding: 0 0 0 0;\n",
              "      width: 32px;\n",
              "    }\n",
              "\n",
              "    .colab-df-convert:hover {\n",
              "      background-color: #E2EBFA;\n",
              "      box-shadow: 0px 1px 2px rgba(60, 64, 67, 0.3), 0px 1px 3px 1px rgba(60, 64, 67, 0.15);\n",
              "      fill: #174EA6;\n",
              "    }\n",
              "\n",
              "    [theme=dark] .colab-df-convert {\n",
              "      background-color: #3B4455;\n",
              "      fill: #D2E3FC;\n",
              "    }\n",
              "\n",
              "    [theme=dark] .colab-df-convert:hover {\n",
              "      background-color: #434B5C;\n",
              "      box-shadow: 0px 1px 3px 1px rgba(0, 0, 0, 0.15);\n",
              "      filter: drop-shadow(0px 1px 2px rgba(0, 0, 0, 0.3));\n",
              "      fill: #FFFFFF;\n",
              "    }\n",
              "  </style>\n",
              "\n",
              "      <script>\n",
              "        const buttonEl =\n",
              "          document.querySelector('#df-33f12b09-3708-4f47-a9bb-7c8a5fee1406 button.colab-df-convert');\n",
              "        buttonEl.style.display =\n",
              "          google.colab.kernel.accessAllowed ? 'block' : 'none';\n",
              "\n",
              "        async function convertToInteractive(key) {\n",
              "          const element = document.querySelector('#df-33f12b09-3708-4f47-a9bb-7c8a5fee1406');\n",
              "          const dataTable =\n",
              "            await google.colab.kernel.invokeFunction('convertToInteractive',\n",
              "                                                     [key], {});\n",
              "          if (!dataTable) return;\n",
              "\n",
              "          const docLinkHtml = 'Like what you see? Visit the ' +\n",
              "            '<a target=\"_blank\" href=https://colab.research.google.com/notebooks/data_table.ipynb>data table notebook</a>'\n",
              "            + ' to learn more about interactive tables.';\n",
              "          element.innerHTML = '';\n",
              "          dataTable['output_type'] = 'display_data';\n",
              "          await google.colab.output.renderOutput(dataTable, element);\n",
              "          const docLink = document.createElement('div');\n",
              "          docLink.innerHTML = docLinkHtml;\n",
              "          element.appendChild(docLink);\n",
              "        }\n",
              "      </script>\n",
              "    </div>\n",
              "  </div>\n",
              "  "
            ]
          },
          "metadata": {},
          "execution_count": 25
        }
      ]
    },
    {
      "cell_type": "code",
      "source": [
        "X=pd.concat([X,geography,gender],axis=1)  "
      ],
      "metadata": {
        "id": "znbxtQwvfF5S"
      },
      "execution_count": 26,
      "outputs": []
    },
    {
      "cell_type": "code",
      "source": [
        "X.head()"
      ],
      "metadata": {
        "colab": {
          "base_uri": "https://localhost:8080/",
          "height": 206
        },
        "id": "a2zF-ENPxTWI",
        "outputId": "86cac2d5-c1cb-49a1-a7a4-7205208dde82"
      },
      "execution_count": 28,
      "outputs": [
        {
          "output_type": "execute_result",
          "data": {
            "text/plain": [
              "   CreditScore  Age  Tenure    Balance  NumOfProducts  HasCrCard  \\\n",
              "0          619   42       2       0.00              1          1   \n",
              "1          608   41       1   83807.86              1          0   \n",
              "2          502   42       8  159660.80              3          1   \n",
              "3          699   39       1       0.00              2          0   \n",
              "4          850   43       2  125510.82              1          1   \n",
              "\n",
              "   IsActiveMember  EstimatedSalary  Germany  Spain  Male  \n",
              "0               1        101348.88        0      0     0  \n",
              "1               1        112542.58        0      1     0  \n",
              "2               0        113931.57        0      0     0  \n",
              "3               0         93826.63        0      0     0  \n",
              "4               1         79084.10        0      1     0  "
            ],
            "text/html": [
              "\n",
              "  <div id=\"df-755f4f48-786c-4165-889d-b48a1d7ff7f4\">\n",
              "    <div class=\"colab-df-container\">\n",
              "      <div>\n",
              "<style scoped>\n",
              "    .dataframe tbody tr th:only-of-type {\n",
              "        vertical-align: middle;\n",
              "    }\n",
              "\n",
              "    .dataframe tbody tr th {\n",
              "        vertical-align: top;\n",
              "    }\n",
              "\n",
              "    .dataframe thead th {\n",
              "        text-align: right;\n",
              "    }\n",
              "</style>\n",
              "<table border=\"1\" class=\"dataframe\">\n",
              "  <thead>\n",
              "    <tr style=\"text-align: right;\">\n",
              "      <th></th>\n",
              "      <th>CreditScore</th>\n",
              "      <th>Age</th>\n",
              "      <th>Tenure</th>\n",
              "      <th>Balance</th>\n",
              "      <th>NumOfProducts</th>\n",
              "      <th>HasCrCard</th>\n",
              "      <th>IsActiveMember</th>\n",
              "      <th>EstimatedSalary</th>\n",
              "      <th>Germany</th>\n",
              "      <th>Spain</th>\n",
              "      <th>Male</th>\n",
              "    </tr>\n",
              "  </thead>\n",
              "  <tbody>\n",
              "    <tr>\n",
              "      <th>0</th>\n",
              "      <td>619</td>\n",
              "      <td>42</td>\n",
              "      <td>2</td>\n",
              "      <td>0.00</td>\n",
              "      <td>1</td>\n",
              "      <td>1</td>\n",
              "      <td>1</td>\n",
              "      <td>101348.88</td>\n",
              "      <td>0</td>\n",
              "      <td>0</td>\n",
              "      <td>0</td>\n",
              "    </tr>\n",
              "    <tr>\n",
              "      <th>1</th>\n",
              "      <td>608</td>\n",
              "      <td>41</td>\n",
              "      <td>1</td>\n",
              "      <td>83807.86</td>\n",
              "      <td>1</td>\n",
              "      <td>0</td>\n",
              "      <td>1</td>\n",
              "      <td>112542.58</td>\n",
              "      <td>0</td>\n",
              "      <td>1</td>\n",
              "      <td>0</td>\n",
              "    </tr>\n",
              "    <tr>\n",
              "      <th>2</th>\n",
              "      <td>502</td>\n",
              "      <td>42</td>\n",
              "      <td>8</td>\n",
              "      <td>159660.80</td>\n",
              "      <td>3</td>\n",
              "      <td>1</td>\n",
              "      <td>0</td>\n",
              "      <td>113931.57</td>\n",
              "      <td>0</td>\n",
              "      <td>0</td>\n",
              "      <td>0</td>\n",
              "    </tr>\n",
              "    <tr>\n",
              "      <th>3</th>\n",
              "      <td>699</td>\n",
              "      <td>39</td>\n",
              "      <td>1</td>\n",
              "      <td>0.00</td>\n",
              "      <td>2</td>\n",
              "      <td>0</td>\n",
              "      <td>0</td>\n",
              "      <td>93826.63</td>\n",
              "      <td>0</td>\n",
              "      <td>0</td>\n",
              "      <td>0</td>\n",
              "    </tr>\n",
              "    <tr>\n",
              "      <th>4</th>\n",
              "      <td>850</td>\n",
              "      <td>43</td>\n",
              "      <td>2</td>\n",
              "      <td>125510.82</td>\n",
              "      <td>1</td>\n",
              "      <td>1</td>\n",
              "      <td>1</td>\n",
              "      <td>79084.10</td>\n",
              "      <td>0</td>\n",
              "      <td>1</td>\n",
              "      <td>0</td>\n",
              "    </tr>\n",
              "  </tbody>\n",
              "</table>\n",
              "</div>\n",
              "      <button class=\"colab-df-convert\" onclick=\"convertToInteractive('df-755f4f48-786c-4165-889d-b48a1d7ff7f4')\"\n",
              "              title=\"Convert this dataframe to an interactive table.\"\n",
              "              style=\"display:none;\">\n",
              "        \n",
              "  <svg xmlns=\"http://www.w3.org/2000/svg\" height=\"24px\"viewBox=\"0 0 24 24\"\n",
              "       width=\"24px\">\n",
              "    <path d=\"M0 0h24v24H0V0z\" fill=\"none\"/>\n",
              "    <path d=\"M18.56 5.44l.94 2.06.94-2.06 2.06-.94-2.06-.94-.94-2.06-.94 2.06-2.06.94zm-11 1L8.5 8.5l.94-2.06 2.06-.94-2.06-.94L8.5 2.5l-.94 2.06-2.06.94zm10 10l.94 2.06.94-2.06 2.06-.94-2.06-.94-.94-2.06-.94 2.06-2.06.94z\"/><path d=\"M17.41 7.96l-1.37-1.37c-.4-.4-.92-.59-1.43-.59-.52 0-1.04.2-1.43.59L10.3 9.45l-7.72 7.72c-.78.78-.78 2.05 0 2.83L4 21.41c.39.39.9.59 1.41.59.51 0 1.02-.2 1.41-.59l7.78-7.78 2.81-2.81c.8-.78.8-2.07 0-2.86zM5.41 20L4 18.59l7.72-7.72 1.47 1.35L5.41 20z\"/>\n",
              "  </svg>\n",
              "      </button>\n",
              "      \n",
              "  <style>\n",
              "    .colab-df-container {\n",
              "      display:flex;\n",
              "      flex-wrap:wrap;\n",
              "      gap: 12px;\n",
              "    }\n",
              "\n",
              "    .colab-df-convert {\n",
              "      background-color: #E8F0FE;\n",
              "      border: none;\n",
              "      border-radius: 50%;\n",
              "      cursor: pointer;\n",
              "      display: none;\n",
              "      fill: #1967D2;\n",
              "      height: 32px;\n",
              "      padding: 0 0 0 0;\n",
              "      width: 32px;\n",
              "    }\n",
              "\n",
              "    .colab-df-convert:hover {\n",
              "      background-color: #E2EBFA;\n",
              "      box-shadow: 0px 1px 2px rgba(60, 64, 67, 0.3), 0px 1px 3px 1px rgba(60, 64, 67, 0.15);\n",
              "      fill: #174EA6;\n",
              "    }\n",
              "\n",
              "    [theme=dark] .colab-df-convert {\n",
              "      background-color: #3B4455;\n",
              "      fill: #D2E3FC;\n",
              "    }\n",
              "\n",
              "    [theme=dark] .colab-df-convert:hover {\n",
              "      background-color: #434B5C;\n",
              "      box-shadow: 0px 1px 3px 1px rgba(0, 0, 0, 0.15);\n",
              "      filter: drop-shadow(0px 1px 2px rgba(0, 0, 0, 0.3));\n",
              "      fill: #FFFFFF;\n",
              "    }\n",
              "  </style>\n",
              "\n",
              "      <script>\n",
              "        const buttonEl =\n",
              "          document.querySelector('#df-755f4f48-786c-4165-889d-b48a1d7ff7f4 button.colab-df-convert');\n",
              "        buttonEl.style.display =\n",
              "          google.colab.kernel.accessAllowed ? 'block' : 'none';\n",
              "\n",
              "        async function convertToInteractive(key) {\n",
              "          const element = document.querySelector('#df-755f4f48-786c-4165-889d-b48a1d7ff7f4');\n",
              "          const dataTable =\n",
              "            await google.colab.kernel.invokeFunction('convertToInteractive',\n",
              "                                                     [key], {});\n",
              "          if (!dataTable) return;\n",
              "\n",
              "          const docLinkHtml = 'Like what you see? Visit the ' +\n",
              "            '<a target=\"_blank\" href=https://colab.research.google.com/notebooks/data_table.ipynb>data table notebook</a>'\n",
              "            + ' to learn more about interactive tables.';\n",
              "          element.innerHTML = '';\n",
              "          dataTable['output_type'] = 'display_data';\n",
              "          await google.colab.output.renderOutput(dataTable, element);\n",
              "          const docLink = document.createElement('div');\n",
              "          docLink.innerHTML = docLinkHtml;\n",
              "          element.appendChild(docLink);\n",
              "        }\n",
              "      </script>\n",
              "    </div>\n",
              "  </div>\n",
              "  "
            ]
          },
          "metadata": {},
          "execution_count": 28
        }
      ]
    },
    {
      "cell_type": "code",
      "source": [
        "#Splitting the dataset into Training set and Test Set\n",
        "from sklearn.model_selection import train_test_split\n",
        "\n",
        "X_train,X_test,y_train,y_test=train_test_split(X,y,test_size=0.2,random_state=0)"
      ],
      "metadata": {
        "id": "DW21T7CHfRZD"
      },
      "execution_count": 29,
      "outputs": []
    },
    {
      "cell_type": "code",
      "source": [
        "#feature Scaling\n",
        "\n",
        "from sklearn.preprocessing import StandardScaler\n",
        "sc =StandardScaler()\n",
        "X_train=sc.fit_transform(X_train)\n",
        "X_test=sc.transform(X_test)"
      ],
      "metadata": {
        "id": "-DRvDdH_fxhb"
      },
      "execution_count": 30,
      "outputs": []
    },
    {
      "cell_type": "code",
      "source": [
        "X_train"
      ],
      "metadata": {
        "colab": {
          "base_uri": "https://localhost:8080/"
        },
        "id": "mmBmGZxQhBRP",
        "outputId": "c6c063c7-bc16-4155-bcc8-6936d6af7e0f"
      },
      "execution_count": 31,
      "outputs": [
        {
          "output_type": "execute_result",
          "data": {
            "text/plain": [
              "array([[ 0.16958176, -0.46460796,  0.00666099, ..., -0.5698444 ,\n",
              "         1.74309049, -1.09168714],\n",
              "       [-2.30455945,  0.30102557, -1.37744033, ...,  1.75486502,\n",
              "        -0.57369368,  0.91601335],\n",
              "       [-1.19119591, -0.94312892, -1.031415  , ..., -0.5698444 ,\n",
              "        -0.57369368, -1.09168714],\n",
              "       ...,\n",
              "       [ 0.9015152 , -0.36890377,  0.00666099, ..., -0.5698444 ,\n",
              "        -0.57369368,  0.91601335],\n",
              "       [-0.62420521, -0.08179119,  1.39076231, ..., -0.5698444 ,\n",
              "         1.74309049, -1.09168714],\n",
              "       [-0.28401079,  0.87525072, -1.37744033, ...,  1.75486502,\n",
              "        -0.57369368, -1.09168714]])"
            ]
          },
          "metadata": {},
          "execution_count": 31
        }
      ]
    },
    {
      "cell_type": "code",
      "source": [
        "X_test"
      ],
      "metadata": {
        "colab": {
          "base_uri": "https://localhost:8080/"
        },
        "id": "s69hrrl-g7lb",
        "outputId": "d472ef85-305d-4c43-8b95-1983a6ee4c41"
      },
      "execution_count": 32,
      "outputs": [
        {
          "output_type": "execute_result",
          "data": {
            "text/plain": [
              "array([[-0.55204276, -0.36890377,  1.04473698, ...,  1.75486502,\n",
              "        -0.57369368, -1.09168714],\n",
              "       [-1.31490297,  0.10961719, -1.031415  , ..., -0.5698444 ,\n",
              "        -0.57369368, -1.09168714],\n",
              "       [ 0.57162971,  0.30102557,  1.04473698, ..., -0.5698444 ,\n",
              "         1.74309049, -1.09168714],\n",
              "       ...,\n",
              "       [-0.74791227, -0.27319958, -1.37744033, ..., -0.5698444 ,\n",
              "         1.74309049,  0.91601335],\n",
              "       [-0.00566991, -0.46460796, -0.33936434, ...,  1.75486502,\n",
              "        -0.57369368,  0.91601335],\n",
              "       [-0.79945688, -0.84742473,  1.04473698, ...,  1.75486502,\n",
              "        -0.57369368,  0.91601335]])"
            ]
          },
          "metadata": {},
          "execution_count": 32
        }
      ]
    },
    {
      "cell_type": "code",
      "source": [
        "X_train.shape"
      ],
      "metadata": {
        "colab": {
          "base_uri": "https://localhost:8080/"
        },
        "id": "4dge1jF_hE_R",
        "outputId": "4fd841dd-c865-4a28-f35e-04544c6bb6ed"
      },
      "execution_count": 33,
      "outputs": [
        {
          "output_type": "execute_result",
          "data": {
            "text/plain": [
              "(8000, 11)"
            ]
          },
          "metadata": {},
          "execution_count": 33
        }
      ]
    },
    {
      "cell_type": "code",
      "source": [
        "## Part 2 Now lets create the ANN\n",
        "from tensorflow.keras.models import Sequential\n",
        "from tensorflow.keras.layers import Dense\n",
        "from tensorflow.keras.layers import LeakyReLU,PReLU,ELU,ReLU\n",
        "from tensorflow.keras.layers import Dropout"
      ],
      "metadata": {
        "id": "oGyiJP6hhIsG"
      },
      "execution_count": 34,
      "outputs": []
    },
    {
      "cell_type": "code",
      "source": [
        "### Lets initialize the ANN\n",
        "classifier=Sequential()"
      ],
      "metadata": {
        "id": "oVjDZrsUiUnE"
      },
      "execution_count": 35,
      "outputs": []
    },
    {
      "cell_type": "code",
      "source": [
        "## Adding the input Layer and first hidden layer\n",
        "classifier.add(Dense(10,input_shape=(11,),activation='relu'))"
      ],
      "metadata": {
        "id": "Bo8m9RPsj0Yy"
      },
      "execution_count": 36,
      "outputs": []
    },
    {
      "cell_type": "code",
      "source": [
        "classifier"
      ],
      "metadata": {
        "colab": {
          "base_uri": "https://localhost:8080/"
        },
        "id": "-dYkh7xd3rqE",
        "outputId": "4bb02b69-9b72-4f7b-8738-4cc67cfe6e5d"
      },
      "execution_count": 37,
      "outputs": [
        {
          "output_type": "execute_result",
          "data": {
            "text/plain": [
              "<keras.engine.sequential.Sequential at 0x7fbe8a62cfd0>"
            ]
          },
          "metadata": {},
          "execution_count": 37
        }
      ]
    },
    {
      "cell_type": "code",
      "source": [
        "# adding the first hidden layer\n",
        "classifier.add(Dense(units=10,activation='relu'))\n",
        "#classifier.add(Dropout(0.2))"
      ],
      "metadata": {
        "id": "ODyJnkfwkH3Q"
      },
      "execution_count": 38,
      "outputs": []
    },
    {
      "cell_type": "code",
      "source": [
        "##adding the second hidden layer\n",
        "classifier.add(Dense(units=10,activation='relu'))\n",
        "#classifier.add(Dropout(0.3))"
      ],
      "metadata": {
        "id": "OUndf0TekSm8"
      },
      "execution_count": 39,
      "outputs": []
    },
    {
      "cell_type": "code",
      "source": [
        "##  Adding the output layer\n",
        "classifier.add(Dense(1,activation='sigmoid'))"
      ],
      "metadata": {
        "id": "-rJBPxk8kgMP"
      },
      "execution_count": 40,
      "outputs": []
    },
    {
      "cell_type": "code",
      "source": [
        "classifier.summary()"
      ],
      "metadata": {
        "colab": {
          "base_uri": "https://localhost:8080/"
        },
        "id": "uH-eGKb_7Lrv",
        "outputId": "048314cc-515f-4b0a-cefb-aedfdd54e1e9"
      },
      "execution_count": 41,
      "outputs": [
        {
          "output_type": "stream",
          "name": "stdout",
          "text": [
            "Model: \"sequential\"\n",
            "_________________________________________________________________\n",
            " Layer (type)                Output Shape              Param #   \n",
            "=================================================================\n",
            " dense (Dense)               (None, 10)                120       \n",
            "                                                                 \n",
            " dense_1 (Dense)             (None, 10)                110       \n",
            "                                                                 \n",
            " dense_2 (Dense)             (None, 10)                110       \n",
            "                                                                 \n",
            " dense_3 (Dense)             (None, 1)                 11        \n",
            "                                                                 \n",
            "=================================================================\n",
            "Total params: 351\n",
            "Trainable params: 351\n",
            "Non-trainable params: 0\n",
            "_________________________________________________________________\n"
          ]
        }
      ]
    },
    {
      "cell_type": "code",
      "source": [
        "classifier.compile(optimizer=opt,loss='binary_crossentropy',metrics=['accuracy'])\n"
      ],
      "metadata": {
        "id": "TmWWsD5akttu"
      },
      "execution_count": 43,
      "outputs": []
    },
    {
      "cell_type": "code",
      "source": [
        "import tensorflow\n",
        "opt=tensorflow.keras.optimizers.Adam(learning_rate=0.01)"
      ],
      "metadata": {
        "id": "HdvIGtgqk975"
      },
      "execution_count": 42,
      "outputs": []
    },
    {
      "cell_type": "code",
      "source": [
        "tensorflow.keras.optimizers.rm"
      ],
      "metadata": {
        "id": "fxqpw0h6Fzbj",
        "colab": {
          "base_uri": "https://localhost:8080/",
          "height": 169
        },
        "outputId": "57d20731-fac2-4579-f835-3809c049bf9d"
      },
      "execution_count": 44,
      "outputs": [
        {
          "output_type": "error",
          "ename": "AttributeError",
          "evalue": "ignored",
          "traceback": [
            "\u001b[0;31m---------------------------------------------------------------------------\u001b[0m",
            "\u001b[0;31mAttributeError\u001b[0m                            Traceback (most recent call last)",
            "\u001b[0;32m<ipython-input-44-2469564007be>\u001b[0m in \u001b[0;36m<module>\u001b[0;34m\u001b[0m\n\u001b[0;32m----> 1\u001b[0;31m \u001b[0mtensorflow\u001b[0m\u001b[0;34m.\u001b[0m\u001b[0mkeras\u001b[0m\u001b[0;34m.\u001b[0m\u001b[0moptimizers\u001b[0m\u001b[0;34m.\u001b[0m\u001b[0mrm\u001b[0m\u001b[0;34m\u001b[0m\u001b[0;34m\u001b[0m\u001b[0m\n\u001b[0m",
            "\u001b[0;31mAttributeError\u001b[0m: module 'keras.api._v2.keras.optimizers' has no attribute 'rm'"
          ]
        }
      ]
    },
    {
      "cell_type": "code",
      "source": [
        "## Early Stopping\n",
        "import tensorflow as tf\n",
        "early_stopping=tf.keras.callbacks.EarlyStopping(\n",
        "    monitor=\"val_loss\",\n",
        "    patience=5\n",
        "   \n",
        ")"
      ],
      "metadata": {
        "id": "erpq8sGEmevo"
      },
      "execution_count": 45,
      "outputs": []
    },
    {
      "cell_type": "code",
      "source": [
        "X_train.shape"
      ],
      "metadata": {
        "colab": {
          "base_uri": "https://localhost:8080/"
        },
        "id": "0ka0-AfR-xwI",
        "outputId": "4f2df31d-0318-4759-a7f9-35b7c29baf09"
      },
      "execution_count": 46,
      "outputs": [
        {
          "output_type": "execute_result",
          "data": {
            "text/plain": [
              "(8000, 11)"
            ]
          },
          "metadata": {},
          "execution_count": 46
        }
      ]
    },
    {
      "cell_type": "code",
      "source": [],
      "metadata": {
        "id": "Hh5-a33D-xI-"
      },
      "execution_count": null,
      "outputs": []
    },
    {
      "cell_type": "code",
      "source": [
        "model_history=classifier.fit(X_train,y_train,validation_data=(X_test,y_test),batch_size=10,epochs=100,callbacks=early_stopping)"
      ],
      "metadata": {
        "colab": {
          "base_uri": "https://localhost:8080/"
        },
        "id": "E35GvaF-lI0X",
        "outputId": "376db6e8-4ac2-45bf-aa93-8e566d0a571b"
      },
      "execution_count": 47,
      "outputs": [
        {
          "output_type": "stream",
          "name": "stdout",
          "text": [
            "Epoch 1/100\n",
            "800/800 [==============================] - 5s 3ms/step - loss: 0.4076 - accuracy: 0.8261 - val_loss: 0.3545 - val_accuracy: 0.8605\n",
            "Epoch 2/100\n",
            "800/800 [==============================] - 2s 3ms/step - loss: 0.3576 - accuracy: 0.8530 - val_loss: 0.3487 - val_accuracy: 0.8645\n",
            "Epoch 3/100\n",
            "800/800 [==============================] - 2s 3ms/step - loss: 0.3561 - accuracy: 0.8514 - val_loss: 0.3547 - val_accuracy: 0.8605\n",
            "Epoch 4/100\n",
            "800/800 [==============================] - 2s 3ms/step - loss: 0.3518 - accuracy: 0.8566 - val_loss: 0.3439 - val_accuracy: 0.8570\n",
            "Epoch 5/100\n",
            "800/800 [==============================] - 2s 3ms/step - loss: 0.3504 - accuracy: 0.8566 - val_loss: 0.3526 - val_accuracy: 0.8630\n",
            "Epoch 6/100\n",
            "800/800 [==============================] - 2s 3ms/step - loss: 0.3496 - accuracy: 0.8593 - val_loss: 0.3469 - val_accuracy: 0.8570\n",
            "Epoch 7/100\n",
            "800/800 [==============================] - 2s 3ms/step - loss: 0.3498 - accuracy: 0.8546 - val_loss: 0.3402 - val_accuracy: 0.8590\n",
            "Epoch 8/100\n",
            "800/800 [==============================] - 2s 3ms/step - loss: 0.3458 - accuracy: 0.8553 - val_loss: 0.3431 - val_accuracy: 0.8660\n",
            "Epoch 9/100\n",
            "800/800 [==============================] - 2s 3ms/step - loss: 0.3450 - accuracy: 0.8574 - val_loss: 0.3398 - val_accuracy: 0.8650\n",
            "Epoch 10/100\n",
            "800/800 [==============================] - 2s 3ms/step - loss: 0.3445 - accuracy: 0.8555 - val_loss: 0.3428 - val_accuracy: 0.8625\n",
            "Epoch 11/100\n",
            "800/800 [==============================] - 2s 3ms/step - loss: 0.3399 - accuracy: 0.8590 - val_loss: 0.3425 - val_accuracy: 0.8610\n",
            "Epoch 12/100\n",
            "800/800 [==============================] - 3s 3ms/step - loss: 0.3399 - accuracy: 0.8616 - val_loss: 0.3494 - val_accuracy: 0.8575\n",
            "Epoch 13/100\n",
            "800/800 [==============================] - 2s 3ms/step - loss: 0.3437 - accuracy: 0.8597 - val_loss: 0.3479 - val_accuracy: 0.8555\n",
            "Epoch 14/100\n",
            "800/800 [==============================] - 2s 3ms/step - loss: 0.3414 - accuracy: 0.8621 - val_loss: 0.3530 - val_accuracy: 0.8555\n"
          ]
        }
      ]
    },
    {
      "cell_type": "code",
      "source": [
        "model_history.history.keys()"
      ],
      "metadata": {
        "colab": {
          "base_uri": "https://localhost:8080/"
        },
        "id": "dlap5VOmlgW7",
        "outputId": "8baf8db2-5e3d-4fbd-82ca-47fc2e2e1ff9"
      },
      "execution_count": 48,
      "outputs": [
        {
          "output_type": "execute_result",
          "data": {
            "text/plain": [
              "dict_keys(['loss', 'accuracy', 'val_loss', 'val_accuracy'])"
            ]
          },
          "metadata": {},
          "execution_count": 48
        }
      ]
    },
    {
      "cell_type": "code",
      "source": [
        "# summarize history for accuracy\n",
        "plt.plot(model_history.history['accuracy'])\n",
        "plt.plot(model_history.history['val_accuracy'])\n",
        "plt.title('model accuracy')\n",
        "plt.ylabel('accuracy')\n",
        "plt.xlabel('epoch')\n",
        "plt.legend(['train', 'test'], loc='upper left')\n",
        "plt.show()"
      ],
      "metadata": {
        "colab": {
          "base_uri": "https://localhost:8080/",
          "height": 295
        },
        "id": "Jc_CvPBNmWPZ",
        "outputId": "098ee318-7427-491b-ce2e-d04a07371f3f"
      },
      "execution_count": 49,
      "outputs": [
        {
          "output_type": "display_data",
          "data": {
            "text/plain": [
              "<Figure size 432x288 with 1 Axes>"
            ],
            "image/png": "[encoded data removed]"
          },
          "metadata": {
            "needs_background": "light"
          }
        }
      ]
    },
    {
      "cell_type": "code",
      "source": [
        "# summarize history for loss\n",
        "plt.plot(model_history.history['loss'])\n",
        "plt.plot(model_history.history['val_loss'])\n",
        "plt.title('model loss')\n",
        "plt.ylabel('loss')\n",
        "plt.xlabel('epoch')\n",
        "plt.legend(['train', 'test'], loc='upper left')\n",
        "plt.show()"
      ],
      "metadata": {
        "colab": {
          "base_uri": "https://localhost:8080/",
          "height": 295
        },
        "id": "0S4HSzKXn50S",
        "outputId": "1cfa9e52-8f66-4373-833f-7a8b5957b7b9"
      },
      "execution_count": 50,
      "outputs": [
        {
          "output_type": "display_data",
          "data": {
            "text/plain": [
              "<Figure size 432x288 with 1 Axes>"
            ],
            "image/png": "[encoded data removed]"
          },
          "metadata": {
            "needs_background": "light"
          }
        }
      ]
    },
    {
      "cell_type": "code",
      "source": [
        "# Part 3 - Making the predictions and evaluating the model\n",
        "\n",
        "# Predicting the Test set results\n",
        "y_pred = classifier.predict(X_test)\n",
        "y_pred = (y_pred >= 0.5)"
      ],
      "metadata": {
        "id": "gZQfAEVeoBeb"
      },
      "execution_count": 51,
      "outputs": []
    },
    {
      "cell_type": "code",
      "source": [
        "## make the confusion matrix\n",
        "from sklearn.metrics import confusion_matrix\n",
        "cm=confusion_matrix(y_test,y_pred)\n",
        "cm"
      ],
      "metadata": {
        "colab": {
          "base_uri": "https://localhost:8080/"
        },
        "id": "aOq8YdE-oOiN",
        "outputId": "c606b13d-461b-4a4b-a58e-c7f60a8f6ffe"
      },
      "execution_count": 53,
      "outputs": [
        {
          "output_type": "execute_result",
          "data": {
            "text/plain": [
              "array([[1475,  120],\n",
              "       [ 169,  236]])"
            ]
          },
          "metadata": {},
          "execution_count": 53
        }
      ]
    },
    {
      "cell_type": "code",
      "source": [
        "## Calculate the accuracy\n",
        "from sklearn.metrics import accuracy_score\n",
        "score=accuracy_score(y_pred,y_test)"
      ],
      "metadata": {
        "id": "R9Y9bfkeoZWg"
      },
      "execution_count": 55,
      "outputs": []
    },
    {
      "cell_type": "code",
      "source": [
        "score"
      ],
      "metadata": {
        "colab": {
          "base_uri": "https://localhost:8080/"
        },
        "id": "wnRxB3p5okGd",
        "outputId": "a25a4987-06f3-4775-822c-6c79e2e30215"
      },
      "execution_count": null,
      "outputs": [
        {
          "output_type": "execute_result",
          "data": {
            "text/plain": [
              "0.863"
            ]
          },
          "metadata": {},
          "execution_count": 40
        }
      ]
    },
    {
      "cell_type": "code",
      "source": [
        "##get the weights\n",
        "classifier.get_weights()"
      ],
      "metadata": {
        "colab": {
          "base_uri": "https://localhost:8080/"
        },
        "id": "GiQVMACtonW6",
        "outputId": "513aaf5e-d885-47ef-9d39-67972ebac6ce"
      },
      "execution_count": 56,
      "outputs": [
        {
          "output_type": "execute_result",
          "data": {
            "text/plain": [
              "[array([[-0.18841623,  0.00522987,  0.43009293, -0.32227364, -0.55300623,\n",
              "         -0.2510222 ,  0.4711845 , -0.02053571,  0.07845335,  0.28088987],\n",
              "        [ 1.6037916 , -2.8452442 ,  1.3894675 , -1.9885074 ,  0.20898023,\n",
              "          0.6116785 , -0.03506028, -1.6532167 , -0.8638363 , -0.07700713],\n",
              "        [ 0.42360947,  0.0683543 ,  1.2333933 , -0.05773949, -0.32521442,\n",
              "          0.15646514,  0.5640041 ,  0.50578415,  0.23575479,  0.16747282],\n",
              "        [ 0.27519405,  0.3379286 , -0.8097692 , -0.1551906 ,  1.9736965 ,\n",
              "         -0.9983374 , -0.9510708 , -1.3359349 ,  0.02782829,  0.6838543 ],\n",
              "        [-0.36746195,  0.05642899,  0.5710271 ,  0.01868465,  1.3759384 ,\n",
              "         -3.0914025 , -0.16304871,  0.8797197 ,  2.057323  ,  2.685808  ],\n",
              "        [ 0.4560212 ,  0.2334565 ,  0.080677  , -0.47029483,  0.18227845,\n",
              "          0.15361577,  0.7029206 , -0.22449839,  0.36303672, -0.13968945],\n",
              "        [ 2.0812082 , -0.71934414,  0.6926441 ,  0.2725428 , -0.4341397 ,\n",
              "         -1.1782153 ,  1.2179159 ,  0.7284151 , -0.2854307 , -0.22964601],\n",
              "        [-0.05392972,  0.01393383, -0.3049417 , -0.32426804,  0.48880884,\n",
              "          0.15737809,  1.1588724 , -0.03080127,  0.34338737, -0.2827536 ],\n",
              "        [ 0.12816085, -0.25587544, -0.8836392 , -0.775781  , -1.9232477 ,\n",
              "          1.2781839 ,  0.15137188, -0.38501096,  0.0176784 ,  0.09950198],\n",
              "        [ 0.14111167, -0.10964715,  0.9954543 , -0.74497473,  0.04721173,\n",
              "          0.05658942, -0.12015475,  0.5993175 , -0.16529354,  0.62814355],\n",
              "        [ 0.22213367,  0.2436108 ,  0.3482251 ,  1.4925272 ,  0.17652765,\n",
              "         -0.4208995 ,  1.1413957 ,  0.41788125,  0.19576396, -0.15571555]],\n",
              "       dtype=float32),\n",
              " array([-1.8962812 ,  3.2271557 ,  0.15177304,  0.25690246, -1.4084336 ,\n",
              "         0.83763117, -1.4152218 , -0.23250583, -1.7061325 , -2.669071  ],\n",
              "       dtype=float32),\n",
              " array([[-2.17340970e+00,  5.26556730e-01, -2.46470287e-01,\n",
              "         -1.06419396e+00, -3.91743593e-02, -1.04089119e-01,\n",
              "         -1.54285920e+00, -1.17364645e+00,  3.60455453e-01,\n",
              "         -2.68604428e-01],\n",
              "        [-1.89276528e+00,  9.67273057e-01,  2.28916481e-03,\n",
              "         -1.46181583e+00, -1.19245768e+00, -1.65080428e-01,\n",
              "         -2.06392479e+00, -5.01821518e-01, -4.57634211e-01,\n",
              "         -1.86650738e-01],\n",
              "        [ 4.52703357e-01,  4.38062251e-01,  2.34711036e-01,\n",
              "          3.30283314e-01, -2.22698712e+00, -1.42480703e-02,\n",
              "         -4.93267477e-02, -7.16586113e-01, -1.28879175e-01,\n",
              "         -9.39398333e-02],\n",
              "        [-1.13361800e+00,  8.71863544e-01,  9.04065147e-02,\n",
              "         -2.16609418e-01, -3.12250070e-02,  2.16463536e-01,\n",
              "         -1.08783054e+00, -1.66592598e-01,  7.73909986e-01,\n",
              "          1.01391196e-01],\n",
              "        [ 5.97052336e-01, -4.82503980e-01, -1.49913657e+00,\n",
              "          1.01324761e+00,  6.75504088e-01, -7.11203396e-01,\n",
              "          1.09525740e+00,  1.02586222e+00, -2.66843345e-02,\n",
              "         -5.90102851e-01],\n",
              "        [ 6.22048795e-01, -1.13106096e+00, -2.67006660e+00,\n",
              "          1.18624747e+00,  7.92191625e-01, -1.13992596e+00,\n",
              "          3.17337930e-01, -9.94046390e-01, -8.44105959e-01,\n",
              "         -5.34394622e-01],\n",
              "        [ 2.26222485e-01, -4.25340235e-01,  1.40407252e+00,\n",
              "          5.62122107e-01, -6.48309231e-01,  8.82964507e-02,\n",
              "          1.78443283e-01,  1.31823206e+00,  3.25096488e-01,\n",
              "         -3.22741419e-02],\n",
              "        [-7.08853245e-01, -3.25041652e-01,  6.20064497e-01,\n",
              "         -8.19603026e-01,  1.31536826e-01, -6.61591411e-01,\n",
              "         -1.01867151e+00,  2.21410885e-01,  5.97345352e-01,\n",
              "         -5.33604622e-01],\n",
              "        [ 4.70770001e-01, -6.50283992e-01,  3.03236187e-01,\n",
              "          1.08688498e+00,  1.56498933e+00, -4.11929339e-01,\n",
              "          4.49174196e-01, -5.52476868e-02, -3.67967725e-01,\n",
              "         -2.49028295e-01],\n",
              "        [ 3.32256973e-01, -6.60618544e-01, -1.90016031e+00,\n",
              "          2.10618830e+00,  1.73252082e+00, -6.38127267e-01,\n",
              "          1.45792925e+00, -1.00504613e+00,  2.41008773e-03,\n",
              "         -5.55918634e-01]], dtype=float32),\n",
              " array([ 0.5940656 ,  0.7797038 ,  0.2058155 ,  0.4072273 ,  1.0042392 ,\n",
              "        -0.44711345, -0.39724156, -0.39125112, -0.49947554, -0.16400254],\n",
              "       dtype=float32),\n",
              " array([[ 0.1572521 ,  0.04004174, -0.6201332 ,  0.60256624, -0.13218035,\n",
              "          0.6001227 ,  0.78916717, -0.02942627,  0.05281904, -0.40147036],\n",
              "        [-0.33507794, -0.28899935, -0.47194317, -0.73050493, -0.09169426,\n",
              "          0.38223046, -0.36099732, -0.96619797, -0.4269394 , -0.5584415 ],\n",
              "        [-0.14499715, -0.06293696, -0.67249554, -0.51282024, -0.27568024,\n",
              "          0.5225009 , -0.19930898,  0.1060054 , -0.07433585, -0.1410207 ],\n",
              "        [-0.30709645, -0.00200733, -0.6559349 ,  0.5236339 , -1.2976164 ,\n",
              "         -1.2943964 , -0.43597806, -0.9313773 , -0.8136323 , -0.28551075],\n",
              "        [-0.39112276, -0.16244482, -0.16951706,  0.56763697, -0.5961369 ,\n",
              "         -0.74301165, -0.4091299 , -0.26760092, -0.4280062 , -0.35424942],\n",
              "        [ 0.37867004, -0.26085314,  0.06836941, -0.58338904, -0.45770994,\n",
              "         -0.03797885, -0.34528846, -0.04502993,  0.02647073,  0.12740119],\n",
              "        [-0.26217064, -0.37651473, -0.5547934 ,  0.88322556,  0.10375003,\n",
              "         -1.1761123 , -1.1364284 , -0.33656865, -0.04710891, -0.39268094],\n",
              "        [ 0.1399672 , -0.3384014 , -0.7533898 , -0.14647354, -0.06754591,\n",
              "          0.12241018,  0.318682  , -0.5812052 ,  0.02588288, -0.13903765],\n",
              "        [-0.06412309, -0.53272426,  0.23454499, -0.35908058, -0.06503373,\n",
              "         -0.06365036,  1.1090328 ,  0.07685271, -0.32622674, -0.12995201],\n",
              "        [-0.5253621 ,  0.11056381, -0.39455694, -0.1294617 ,  0.2973816 ,\n",
              "         -0.1072681 , -0.01881557,  0.08301498, -0.11031341, -0.18583877]],\n",
              "       dtype=float32),\n",
              " array([-0.7631307 , -0.46584356, -0.32304782, -0.03710904, -0.01060757,\n",
              "         0.8462626 , -0.50705296, -0.85813046, -0.21371178, -0.47619882],\n",
              "       dtype=float32),\n",
              " array([[-0.01154055],\n",
              "        [-0.1479076 ],\n",
              "        [ 0.15307513],\n",
              "        [ 0.38244677],\n",
              "        [ 0.00606409],\n",
              "        [-0.46041054],\n",
              "        [ 0.10268602],\n",
              "        [ 0.13574019],\n",
              "        [ 0.08557671],\n",
              "        [ 0.13972048]], dtype=float32),\n",
              " array([-0.7829155], dtype=float32)]"
            ]
          },
          "metadata": {},
          "execution_count": 56
        }
      ]
    },
    {
      "cell_type": "code",
      "source": [
        "## Saving h5 file\n",
        "classifier.save('model.h5')"
      ],
      "metadata": {
        "id": "forHdgtKoxLm"
      },
      "execution_count": 57,
      "outputs": []
    },
    {
      "cell_type": "code",
      "source": [
        "##laoding h5 file\n",
        "from tensorflow import keras\n",
        "classifier1=keras.models.load_model('model.h5')"
      ],
      "metadata": {
        "id": "3J5MCsd2FnM3"
      },
      "execution_count": 58,
      "outputs": []
    },
    {
      "cell_type": "code",
      "source": [
        "classifier1.predict(X_test)"
      ],
      "metadata": {
        "colab": {
          "base_uri": "https://localhost:8080/"
        },
        "id": "RWkEXAZlGU54",
        "outputId": "021f048e-0d14-4028-dd76-aad03404435c"
      },
      "execution_count": 59,
      "outputs": [
        {
          "output_type": "execute_result",
          "data": {
            "text/plain": [
              "array([[0.3494909 ],\n",
              "       [0.40797842],\n",
              "       [0.20321426],\n",
              "       ...,\n",
              "       [0.15141888],\n",
              "       [0.14277208],\n",
              "       [0.19996573]], dtype=float32)"
            ]
          },
          "metadata": {},
          "execution_count": 59
        }
      ]
    },
    {
      "cell_type": "code",
      "source": [
        "dataset.head()"
      ],
      "metadata": {
        "colab": {
          "base_uri": "https://localhost:8080/",
          "height": 270
        },
        "id": "L9gp3uG6G-zS",
        "outputId": "3e43369a-07b5-4197-d2b5-eb0e084924ad"
      },
      "execution_count": 60,
      "outputs": [
        {
          "output_type": "execute_result",
          "data": {
            "text/plain": [
              "   RowNumber  CustomerId   Surname  CreditScore Geography  Gender  Age  \\\n",
              "0          1    15634602  Hargrave          619    France  Female   42   \n",
              "1          2    15647311      Hill          608     Spain  Female   41   \n",
              "2          3    15619304      Onio          502    France  Female   42   \n",
              "3          4    15701354      Boni          699    France  Female   39   \n",
              "4          5    15737888  Mitchell          850     Spain  Female   43   \n",
              "\n",
              "   Tenure    Balance  NumOfProducts  HasCrCard  IsActiveMember  \\\n",
              "0       2       0.00              1          1               1   \n",
              "1       1   83807.86              1          0               1   \n",
              "2       8  159660.80              3          1               0   \n",
              "3       1       0.00              2          0               0   \n",
              "4       2  125510.82              1          1               1   \n",
              "\n",
              "   EstimatedSalary  Exited  \n",
              "0        101348.88       1  \n",
              "1        112542.58       0  \n",
              "2        113931.57       1  \n",
              "3         93826.63       0  \n",
              "4         79084.10       0  "
            ],
            "text/html": [
              "\n",
              "  <div id=\"df-46086ce7-4b46-427d-a686-3d9a2976dc94\">\n",
              "    <div class=\"colab-df-container\">\n",
              "      <div>\n",
              "<style scoped>\n",
              "    .dataframe tbody tr th:only-of-type {\n",
              "        vertical-align: middle;\n",
              "    }\n",
              "\n",
              "    .dataframe tbody tr th {\n",
              "        vertical-align: top;\n",
              "    }\n",
              "\n",
              "    .dataframe thead th {\n",
              "        text-align: right;\n",
              "    }\n",
              "</style>\n",
              "<table border=\"1\" class=\"dataframe\">\n",
              "  <thead>\n",
              "    <tr style=\"text-align: right;\">\n",
              "      <th></th>\n",
              "      <th>RowNumber</th>\n",
              "      <th>CustomerId</th>\n",
              "      <th>Surname</th>\n",
              "      <th>CreditScore</th>\n",
              "      <th>Geography</th>\n",
              "      <th>Gender</th>\n",
              "      <th>Age</th>\n",
              "      <th>Tenure</th>\n",
              "      <th>Balance</th>\n",
              "      <th>NumOfProducts</th>\n",
              "      <th>HasCrCard</th>\n",
              "      <th>IsActiveMember</th>\n",
              "      <th>EstimatedSalary</th>\n",
              "      <th>Exited</th>\n",
              "    </tr>\n",
              "  </thead>\n",
              "  <tbody>\n",
              "    <tr>\n",
              "      <th>0</th>\n",
              "      <td>1</td>\n",
              "      <td>15634602</td>\n",
              "      <td>Hargrave</td>\n",
              "      <td>619</td>\n",
              "      <td>France</td>\n",
              "      <td>Female</td>\n",
              "      <td>42</td>\n",
              "      <td>2</td>\n",
              "      <td>0.00</td>\n",
              "      <td>1</td>\n",
              "      <td>1</td>\n",
              "      <td>1</td>\n",
              "      <td>101348.88</td>\n",
              "      <td>1</td>\n",
              "    </tr>\n",
              "    <tr>\n",
              "      <th>1</th>\n",
              "      <td>2</td>\n",
              "      <td>15647311</td>\n",
              "      <td>Hill</td>\n",
              "      <td>608</td>\n",
              "      <td>Spain</td>\n",
              "      <td>Female</td>\n",
              "      <td>41</td>\n",
              "      <td>1</td>\n",
              "      <td>83807.86</td>\n",
              "      <td>1</td>\n",
              "      <td>0</td>\n",
              "      <td>1</td>\n",
              "      <td>112542.58</td>\n",
              "      <td>0</td>\n",
              "    </tr>\n",
              "    <tr>\n",
              "      <th>2</th>\n",
              "      <td>3</td>\n",
              "      <td>15619304</td>\n",
              "      <td>Onio</td>\n",
              "      <td>502</td>\n",
              "      <td>France</td>\n",
              "      <td>Female</td>\n",
              "      <td>42</td>\n",
              "      <td>8</td>\n",
              "      <td>159660.80</td>\n",
              "      <td>3</td>\n",
              "      <td>1</td>\n",
              "      <td>0</td>\n",
              "      <td>113931.57</td>\n",
              "      <td>1</td>\n",
              "    </tr>\n",
              "    <tr>\n",
              "      <th>3</th>\n",
              "      <td>4</td>\n",
              "      <td>15701354</td>\n",
              "      <td>Boni</td>\n",
              "      <td>699</td>\n",
              "      <td>France</td>\n",
              "      <td>Female</td>\n",
              "      <td>39</td>\n",
              "      <td>1</td>\n",
              "      <td>0.00</td>\n",
              "      <td>2</td>\n",
              "      <td>0</td>\n",
              "      <td>0</td>\n",
              "      <td>93826.63</td>\n",
              "      <td>0</td>\n",
              "    </tr>\n",
              "    <tr>\n",
              "      <th>4</th>\n",
              "      <td>5</td>\n",
              "      <td>15737888</td>\n",
              "      <td>Mitchell</td>\n",
              "      <td>850</td>\n",
              "      <td>Spain</td>\n",
              "      <td>Female</td>\n",
              "      <td>43</td>\n",
              "      <td>2</td>\n",
              "      <td>125510.82</td>\n",
              "      <td>1</td>\n",
              "      <td>1</td>\n",
              "      <td>1</td>\n",
              "      <td>79084.10</td>\n",
              "      <td>0</td>\n",
              "    </tr>\n",
              "  </tbody>\n",
              "</table>\n",
              "</div>\n",
              "      <button class=\"colab-df-convert\" onclick=\"convertToInteractive('df-46086ce7-4b46-427d-a686-3d9a2976dc94')\"\n",
              "              title=\"Convert this dataframe to an interactive table.\"\n",
              "              style=\"display:none;\">\n",
              "        \n",
              "  <svg xmlns=\"http://www.w3.org/2000/svg\" height=\"24px\"viewBox=\"0 0 24 24\"\n",
              "       width=\"24px\">\n",
              "    <path d=\"M0 0h24v24H0V0z\" fill=\"none\"/>\n",
              "    <path d=\"M18.56 5.44l.94 2.06.94-2.06 2.06-.94-2.06-.94-.94-2.06-.94 2.06-2.06.94zm-11 1L8.5 8.5l.94-2.06 2.06-.94-2.06-.94L8.5 2.5l-.94 2.06-2.06.94zm10 10l.94 2.06.94-2.06 2.06-.94-2.06-.94-.94-2.06-.94 2.06-2.06.94z\"/><path d=\"M17.41 7.96l-1.37-1.37c-.4-.4-.92-.59-1.43-.59-.52 0-1.04.2-1.43.59L10.3 9.45l-7.72 7.72c-.78.78-.78 2.05 0 2.83L4 21.41c.39.39.9.59 1.41.59.51 0 1.02-.2 1.41-.59l7.78-7.78 2.81-2.81c.8-.78.8-2.07 0-2.86zM5.41 20L4 18.59l7.72-7.72 1.47 1.35L5.41 20z\"/>\n",
              "  </svg>\n",
              "      </button>\n",
              "      \n",
              "  <style>\n",
              "    .colab-df-container {\n",
              "      display:flex;\n",
              "      flex-wrap:wrap;\n",
              "      gap: 12px;\n",
              "    }\n",
              "\n",
              "    .colab-df-convert {\n",
              "      background-color: #E8F0FE;\n",
              "      border: none;\n",
              "      border-radius: 50%;\n",
              "      cursor: pointer;\n",
              "      display: none;\n",
              "      fill: #1967D2;\n",
              "      height: 32px;\n",
              "      padding: 0 0 0 0;\n",
              "      width: 32px;\n",
              "    }\n",
              "\n",
              "    .colab-df-convert:hover {\n",
              "      background-color: #E2EBFA;\n",
              "      box-shadow: 0px 1px 2px rgba(60, 64, 67, 0.3), 0px 1px 3px 1px rgba(60, 64, 67, 0.15);\n",
              "      fill: #174EA6;\n",
              "    }\n",
              "\n",
              "    [theme=dark] .colab-df-convert {\n",
              "      background-color: #3B4455;\n",
              "      fill: #D2E3FC;\n",
              "    }\n",
              "\n",
              "    [theme=dark] .colab-df-convert:hover {\n",
              "      background-color: #434B5C;\n",
              "      box-shadow: 0px 1px 3px 1px rgba(0, 0, 0, 0.15);\n",
              "      filter: drop-shadow(0px 1px 2px rgba(0, 0, 0, 0.3));\n",
              "      fill: #FFFFFF;\n",
              "    }\n",
              "  </style>\n",
              "\n",
              "      <script>\n",
              "        const buttonEl =\n",
              "          document.querySelector('#df-46086ce7-4b46-427d-a686-3d9a2976dc94 button.colab-df-convert');\n",
              "        buttonEl.style.display =\n",
              "          google.colab.kernel.accessAllowed ? 'block' : 'none';\n",
              "\n",
              "        async function convertToInteractive(key) {\n",
              "          const element = document.querySelector('#df-46086ce7-4b46-427d-a686-3d9a2976dc94');\n",
              "          const dataTable =\n",
              "            await google.colab.kernel.invokeFunction('convertToInteractive',\n",
              "                                                     [key], {});\n",
              "          if (!dataTable) return;\n",
              "\n",
              "          const docLinkHtml = 'Like what you see? Visit the ' +\n",
              "            '<a target=\"_blank\" href=https://colab.research.google.com/notebooks/data_table.ipynb>data table notebook</a>'\n",
              "            + ' to learn more about interactive tables.';\n",
              "          element.innerHTML = '';\n",
              "          dataTable['output_type'] = 'display_data';\n",
              "          await google.colab.output.renderOutput(dataTable, element);\n",
              "          const docLink = document.createElement('div');\n",
              "          docLink.innerHTML = docLinkHtml;\n",
              "          element.appendChild(docLink);\n",
              "        }\n",
              "      </script>\n",
              "    </div>\n",
              "  </div>\n",
              "  "
            ]
          },
          "metadata": {},
          "execution_count": 60
        }
      ]
    },
    {
      "cell_type": "code",
      "source": [
        "dataset.columns"
      ],
      "metadata": {
        "colab": {
          "base_uri": "https://localhost:8080/"
        },
        "id": "9TV4b5cWHICX",
        "outputId": "a9c855c7-5445-458b-91f2-d9063a828dfc"
      },
      "execution_count": 61,
      "outputs": [
        {
          "output_type": "execute_result",
          "data": {
            "text/plain": [
              "Index(['RowNumber', 'CustomerId', 'Surname', 'CreditScore', 'Geography',\n",
              "       'Gender', 'Age', 'Tenure', 'Balance', 'NumOfProducts', 'HasCrCard',\n",
              "       'IsActiveMember', 'EstimatedSalary', 'Exited'],\n",
              "      dtype='object')"
            ]
          },
          "metadata": {},
          "execution_count": 61
        }
      ]
    },
    {
      "cell_type": "code",
      "source": [
        "## Regression\n",
        "## Divide the dataset into independent and dependent features\n",
        "\n",
        "X=dataset[['CreditScore', 'Geography',\n",
        "       'Gender', 'Age', 'Tenure', 'Balance', 'NumOfProducts', 'HasCrCard',\n",
        "       'IsActiveMember','Exited']]\n",
        "y=dataset.iloc[:,12]"
      ],
      "metadata": {
        "id": "8KlalmxFGeg2"
      },
      "execution_count": 62,
      "outputs": []
    },
    {
      "cell_type": "code",
      "source": [
        "X.head()"
      ],
      "metadata": {
        "colab": {
          "base_uri": "https://localhost:8080/",
          "height": 206
        },
        "id": "0iLsepK6HOfs",
        "outputId": "d42d7dba-91c0-4f59-aaf3-f1868a22d701"
      },
      "execution_count": 63,
      "outputs": [
        {
          "output_type": "execute_result",
          "data": {
            "text/plain": [
              "   CreditScore Geography  Gender  Age  Tenure    Balance  NumOfProducts  \\\n",
              "0          619    France  Female   42       2       0.00              1   \n",
              "1          608     Spain  Female   41       1   83807.86              1   \n",
              "2          502    France  Female   42       8  159660.80              3   \n",
              "3          699    France  Female   39       1       0.00              2   \n",
              "4          850     Spain  Female   43       2  125510.82              1   \n",
              "\n",
              "   HasCrCard  IsActiveMember  Exited  \n",
              "0          1               1       1  \n",
              "1          0               1       0  \n",
              "2          1               0       1  \n",
              "3          0               0       0  \n",
              "4          1               1       0  "
            ],
            "text/html": [
              "\n",
              "  <div id=\"df-20539b6d-cbe1-4ad6-9145-d6f74fc3198f\">\n",
              "    <div class=\"colab-df-container\">\n",
              "      <div>\n",
              "<style scoped>\n",
              "    .dataframe tbody tr th:only-of-type {\n",
              "        vertical-align: middle;\n",
              "    }\n",
              "\n",
              "    .dataframe tbody tr th {\n",
              "        vertical-align: top;\n",
              "    }\n",
              "\n",
              "    .dataframe thead th {\n",
              "        text-align: right;\n",
              "    }\n",
              "</style>\n",
              "<table border=\"1\" class=\"dataframe\">\n",
              "  <thead>\n",
              "    <tr style=\"text-align: right;\">\n",
              "      <th></th>\n",
              "      <th>CreditScore</th>\n",
              "      <th>Geography</th>\n",
              "      <th>Gender</th>\n",
              "      <th>Age</th>\n",
              "      <th>Tenure</th>\n",
              "      <th>Balance</th>\n",
              "      <th>NumOfProducts</th>\n",
              "      <th>HasCrCard</th>\n",
              "      <th>IsActiveMember</th>\n",
              "      <th>Exited</th>\n",
              "    </tr>\n",
              "  </thead>\n",
              "  <tbody>\n",
              "    <tr>\n",
              "      <th>0</th>\n",
              "      <td>619</td>\n",
              "      <td>France</td>\n",
              "      <td>Female</td>\n",
              "      <td>42</td>\n",
              "      <td>2</td>\n",
              "      <td>0.00</td>\n",
              "      <td>1</td>\n",
              "      <td>1</td>\n",
              "      <td>1</td>\n",
              "      <td>1</td>\n",
              "    </tr>\n",
              "    <tr>\n",
              "      <th>1</th>\n",
              "      <td>608</td>\n",
              "      <td>Spain</td>\n",
              "      <td>Female</td>\n",
              "      <td>41</td>\n",
              "      <td>1</td>\n",
              "      <td>83807.86</td>\n",
              "      <td>1</td>\n",
              "      <td>0</td>\n",
              "      <td>1</td>\n",
              "      <td>0</td>\n",
              "    </tr>\n",
              "    <tr>\n",
              "      <th>2</th>\n",
              "      <td>502</td>\n",
              "      <td>France</td>\n",
              "      <td>Female</td>\n",
              "      <td>42</td>\n",
              "      <td>8</td>\n",
              "      <td>159660.80</td>\n",
              "      <td>3</td>\n",
              "      <td>1</td>\n",
              "      <td>0</td>\n",
              "      <td>1</td>\n",
              "    </tr>\n",
              "    <tr>\n",
              "      <th>3</th>\n",
              "      <td>699</td>\n",
              "      <td>France</td>\n",
              "      <td>Female</td>\n",
              "      <td>39</td>\n",
              "      <td>1</td>\n",
              "      <td>0.00</td>\n",
              "      <td>2</td>\n",
              "      <td>0</td>\n",
              "      <td>0</td>\n",
              "      <td>0</td>\n",
              "    </tr>\n",
              "    <tr>\n",
              "      <th>4</th>\n",
              "      <td>850</td>\n",
              "      <td>Spain</td>\n",
              "      <td>Female</td>\n",
              "      <td>43</td>\n",
              "      <td>2</td>\n",
              "      <td>125510.82</td>\n",
              "      <td>1</td>\n",
              "      <td>1</td>\n",
              "      <td>1</td>\n",
              "      <td>0</td>\n",
              "    </tr>\n",
              "  </tbody>\n",
              "</table>\n",
              "</div>\n",
              "      <button class=\"colab-df-convert\" onclick=\"convertToInteractive('df-20539b6d-cbe1-4ad6-9145-d6f74fc3198f')\"\n",
              "              title=\"Convert this dataframe to an interactive table.\"\n",
              "              style=\"display:none;\">\n",
              "        \n",
              "  <svg xmlns=\"http://www.w3.org/2000/svg\" height=\"24px\"viewBox=\"0 0 24 24\"\n",
              "       width=\"24px\">\n",
              "    <path d=\"M0 0h24v24H0V0z\" fill=\"none\"/>\n",
              "    <path d=\"M18.56 5.44l.94 2.06.94-2.06 2.06-.94-2.06-.94-.94-2.06-.94 2.06-2.06.94zm-11 1L8.5 8.5l.94-2.06 2.06-.94-2.06-.94L8.5 2.5l-.94 2.06-2.06.94zm10 10l.94 2.06.94-2.06 2.06-.94-2.06-.94-.94-2.06-.94 2.06-2.06.94z\"/><path d=\"M17.41 7.96l-1.37-1.37c-.4-.4-.92-.59-1.43-.59-.52 0-1.04.2-1.43.59L10.3 9.45l-7.72 7.72c-.78.78-.78 2.05 0 2.83L4 21.41c.39.39.9.59 1.41.59.51 0 1.02-.2 1.41-.59l7.78-7.78 2.81-2.81c.8-.78.8-2.07 0-2.86zM5.41 20L4 18.59l7.72-7.72 1.47 1.35L5.41 20z\"/>\n",
              "  </svg>\n",
              "      </button>\n",
              "      \n",
              "  <style>\n",
              "    .colab-df-container {\n",
              "      display:flex;\n",
              "      flex-wrap:wrap;\n",
              "      gap: 12px;\n",
              "    }\n",
              "\n",
              "    .colab-df-convert {\n",
              "      background-color: #E8F0FE;\n",
              "      border: none;\n",
              "      border-radius: 50%;\n",
              "      cursor: pointer;\n",
              "      display: none;\n",
              "      fill: #1967D2;\n",
              "      height: 32px;\n",
              "      padding: 0 0 0 0;\n",
              "      width: 32px;\n",
              "    }\n",
              "\n",
              "    .colab-df-convert:hover {\n",
              "      background-color: #E2EBFA;\n",
              "      box-shadow: 0px 1px 2px rgba(60, 64, 67, 0.3), 0px 1px 3px 1px rgba(60, 64, 67, 0.15);\n",
              "      fill: #174EA6;\n",
              "    }\n",
              "\n",
              "    [theme=dark] .colab-df-convert {\n",
              "      background-color: #3B4455;\n",
              "      fill: #D2E3FC;\n",
              "    }\n",
              "\n",
              "    [theme=dark] .colab-df-convert:hover {\n",
              "      background-color: #434B5C;\n",
              "      box-shadow: 0px 1px 3px 1px rgba(0, 0, 0, 0.15);\n",
              "      filter: drop-shadow(0px 1px 2px rgba(0, 0, 0, 0.3));\n",
              "      fill: #FFFFFF;\n",
              "    }\n",
              "  </style>\n",
              "\n",
              "      <script>\n",
              "        const buttonEl =\n",
              "          document.querySelector('#df-20539b6d-cbe1-4ad6-9145-d6f74fc3198f button.colab-df-convert');\n",
              "        buttonEl.style.display =\n",
              "          google.colab.kernel.accessAllowed ? 'block' : 'none';\n",
              "\n",
              "        async function convertToInteractive(key) {\n",
              "          const element = document.querySelector('#df-20539b6d-cbe1-4ad6-9145-d6f74fc3198f');\n",
              "          const dataTable =\n",
              "            await google.colab.kernel.invokeFunction('convertToInteractive',\n",
              "                                                     [key], {});\n",
              "          if (!dataTable) return;\n",
              "\n",
              "          const docLinkHtml = 'Like what you see? Visit the ' +\n",
              "            '<a target=\"_blank\" href=https://colab.research.google.com/notebooks/data_table.ipynb>data table notebook</a>'\n",
              "            + ' to learn more about interactive tables.';\n",
              "          element.innerHTML = '';\n",
              "          dataTable['output_type'] = 'display_data';\n",
              "          await google.colab.output.renderOutput(dataTable, element);\n",
              "          const docLink = document.createElement('div');\n",
              "          docLink.innerHTML = docLinkHtml;\n",
              "          element.appendChild(docLink);\n",
              "        }\n",
              "      </script>\n",
              "    </div>\n",
              "  </div>\n",
              "  "
            ]
          },
          "metadata": {},
          "execution_count": 63
        }
      ]
    },
    {
      "cell_type": "code",
      "source": [
        "y"
      ],
      "metadata": {
        "colab": {
          "base_uri": "https://localhost:8080/"
        },
        "id": "YyMn_RJ-HP9Q",
        "outputId": "d973ca8c-60cb-4703-f5dc-016ee6bd08bb"
      },
      "execution_count": 64,
      "outputs": [
        {
          "output_type": "execute_result",
          "data": {
            "text/plain": [
              "0       101348.88\n",
              "1       112542.58\n",
              "2       113931.57\n",
              "3        93826.63\n",
              "4        79084.10\n",
              "          ...    \n",
              "9995     96270.64\n",
              "9996    101699.77\n",
              "9997     42085.58\n",
              "9998     92888.52\n",
              "9999     38190.78\n",
              "Name: EstimatedSalary, Length: 10000, dtype: float64"
            ]
          },
          "metadata": {},
          "execution_count": 64
        }
      ]
    },
    {
      "cell_type": "code",
      "source": [
        "## Ferature Engineering \n",
        "geography=pd.get_dummies(X['Geography'],drop_first=True)\n",
        "gender=pd.get_dummies(X['Gender'],drop_first=True)\n",
        "## concatenate these variables with dataframe\n",
        "X=X.drop(['Geography','Gender'],axis=1)\n",
        "X=pd.concat([X,geography,gender],axis=1) \n",
        "#Splitting the dataset into Training set and Test Set\n",
        "from sklearn.model_selection import train_test_split\n",
        "\n",
        "X_train,X_test,y_train,y_test=train_test_split(X,y,test_size=0.2,random_state=0)\n",
        "\n",
        "#feature Scaling\n",
        "\n",
        "from sklearn.preprocessing import StandardScaler\n",
        "sc =StandardScaler()\n",
        "X_train=sc.fit_transform(X_train)\n",
        "X_test=sc.transform(X_test)\n",
        "\n",
        "### Lets initialize the ANN\n",
        "regressor=Sequential()\n",
        "## Adding the input Layer and first hidden layer\n",
        "regressor.add(Dense(10,input_shape=(11,),activation='relu'))\n",
        "\n",
        "\n",
        "# adding the first hidden layer\n",
        "regressor.add(Dense(units=10,activation='relu'))\n",
        "#regressor.add(Dropout(0.2))\n",
        "\n",
        "##adding the second hidden layer\n",
        "regressor.add(Dense(units=10,activation='relu'))\n",
        "#regressor.add(Dropout(0.3))\n",
        "\n",
        "##  Adding the output layer\n",
        "regressor.add(Dense(1))\n",
        "\n",
        "\n"
      ],
      "metadata": {
        "id": "cOCI9HllHRbx"
      },
      "execution_count": 65,
      "outputs": []
    },
    {
      "cell_type": "code",
      "source": [
        "regressor.summary()"
      ],
      "metadata": {
        "colab": {
          "base_uri": "https://localhost:8080/"
        },
        "id": "fjov1kTsIxj9",
        "outputId": "39d9ae3d-2d5b-4a39-b1b5-fd3d84742b8e"
      },
      "execution_count": 66,
      "outputs": [
        {
          "output_type": "stream",
          "name": "stdout",
          "text": [
            "Model: \"sequential_1\"\n",
            "_________________________________________________________________\n",
            " Layer (type)                Output Shape              Param #   \n",
            "=================================================================\n",
            " dense_4 (Dense)             (None, 10)                120       \n",
            "                                                                 \n",
            " dense_5 (Dense)             (None, 10)                110       \n",
            "                                                                 \n",
            " dense_6 (Dense)             (None, 10)                110       \n",
            "                                                                 \n",
            " dense_7 (Dense)             (None, 1)                 11        \n",
            "                                                                 \n",
            "=================================================================\n",
            "Total params: 351\n",
            "Trainable params: 351\n",
            "Non-trainable params: 0\n",
            "_________________________________________________________________\n"
          ]
        }
      ]
    },
    {
      "cell_type": "code",
      "source": [
        "import tensorflow\n",
        "mse=tensorflow.keras.losses.MeanSquaredError(\n",
        "    name='mean_squared_error'\n",
        ")\n",
        "metrics=tensorflow.keras.metrics.MeanSquaredError(\n",
        "    name='mean_squared_error', dtype=None\n",
        ")"
      ],
      "metadata": {
        "id": "aNG0Ln_-I4bZ"
      },
      "execution_count": 67,
      "outputs": []
    },
    {
      "cell_type": "code",
      "source": [
        "\n",
        "regressor.compile(optimizer=opt,loss=mse,metrics=['mae'])"
      ],
      "metadata": {
        "id": "AmteF4U3IkyY"
      },
      "execution_count": 68,
      "outputs": []
    },
    {
      "cell_type": "code",
      "source": [
        "## Early Stopping\n",
        "import tensorflow as tf\n",
        "early_stopping=tf.keras.callbacks.EarlyStopping(\n",
        "    monitor=\"mae\",\n",
        "    patience=20\n",
        "   \n",
        ")"
      ],
      "metadata": {
        "id": "PyJl0Q_RJvNz"
      },
      "execution_count": 69,
      "outputs": []
    },
    {
      "cell_type": "code",
      "source": [
        "model_history=regressor.fit(X_train,y_train,validation_data=(X_test,y_test),batch_size=10,epochs=100,callbacks=early_stopping)"
      ],
      "metadata": {
        "colab": {
          "base_uri": "https://localhost:8080/"
        },
        "id": "ngttLr3UJOYC",
        "outputId": "63712904-8b82-4e31-f7fb-6ea5aa4c3017"
      },
      "execution_count": 70,
      "outputs": [
        {
          "output_type": "stream",
          "name": "stdout",
          "text": [
            "Epoch 1/100\n",
            "800/800 [==============================] - 3s 3ms/step - loss: 3931513088.0000 - mae: 52721.8438 - val_loss: 3349515264.0000 - val_mae: 49710.8867\n",
            "Epoch 2/100\n",
            "800/800 [==============================] - 2s 2ms/step - loss: 3365248000.0000 - mae: 49959.5664 - val_loss: 3325890048.0000 - val_mae: 49558.4258\n",
            "Epoch 3/100\n",
            "800/800 [==============================] - 2s 2ms/step - loss: 3349134592.0000 - mae: 49875.9648 - val_loss: 3323106304.0000 - val_mae: 49556.9883\n",
            "Epoch 4/100\n",
            "800/800 [==============================] - 2s 2ms/step - loss: 3340429568.0000 - mae: 49819.5898 - val_loss: 3326662912.0000 - val_mae: 49517.0664\n",
            "Epoch 5/100\n",
            "800/800 [==============================] - 2s 2ms/step - loss: 3339857408.0000 - mae: 49776.6719 - val_loss: 3335318784.0000 - val_mae: 49549.1016\n",
            "Epoch 6/100\n",
            "800/800 [==============================] - 2s 2ms/step - loss: 3325451520.0000 - mae: 49733.1367 - val_loss: 3364793088.0000 - val_mae: 49706.0742\n",
            "Epoch 7/100\n",
            "800/800 [==============================] - 2s 2ms/step - loss: 3323964160.0000 - mae: 49729.0859 - val_loss: 3330708992.0000 - val_mae: 49650.9258\n",
            "Epoch 8/100\n",
            "800/800 [==============================] - 2s 2ms/step - loss: 3324704512.0000 - mae: 49727.8984 - val_loss: 3309050112.0000 - val_mae: 49406.2070\n",
            "Epoch 9/100\n",
            "800/800 [==============================] - 2s 2ms/step - loss: 3327494656.0000 - mae: 49762.0117 - val_loss: 3316846592.0000 - val_mae: 49536.7891\n",
            "Epoch 10/100\n",
            "800/800 [==============================] - 2s 2ms/step - loss: 3321511680.0000 - mae: 49681.4141 - val_loss: 3318396416.0000 - val_mae: 49534.7930\n",
            "Epoch 11/100\n",
            "800/800 [==============================] - 2s 2ms/step - loss: 3318631168.0000 - mae: 49652.6055 - val_loss: 3329963008.0000 - val_mae: 49671.2383\n",
            "Epoch 12/100\n",
            "800/800 [==============================] - 2s 2ms/step - loss: 3321006080.0000 - mae: 49727.7188 - val_loss: 3316481024.0000 - val_mae: 49511.8281\n",
            "Epoch 13/100\n",
            "800/800 [==============================] - 2s 2ms/step - loss: 3313576960.0000 - mae: 49649.5586 - val_loss: 3307102208.0000 - val_mae: 49500.4414\n",
            "Epoch 14/100\n",
            "800/800 [==============================] - 2s 2ms/step - loss: 3311458816.0000 - mae: 49654.1406 - val_loss: 3322780928.0000 - val_mae: 49611.1719\n",
            "Epoch 15/100\n",
            "800/800 [==============================] - 2s 2ms/step - loss: 3318196992.0000 - mae: 49683.3789 - val_loss: 3306151168.0000 - val_mae: 49477.0117\n",
            "Epoch 16/100\n",
            "800/800 [==============================] - 2s 2ms/step - loss: 3317990656.0000 - mae: 49689.2891 - val_loss: 3315888384.0000 - val_mae: 49524.1250\n",
            "Epoch 17/100\n",
            "800/800 [==============================] - 2s 2ms/step - loss: 3316656640.0000 - mae: 49692.0703 - val_loss: 3328279296.0000 - val_mae: 49570.4453\n",
            "Epoch 18/100\n",
            "800/800 [==============================] - 2s 2ms/step - loss: 3315816704.0000 - mae: 49699.2383 - val_loss: 3307889920.0000 - val_mae: 49478.4492\n",
            "Epoch 19/100\n",
            "800/800 [==============================] - 2s 3ms/step - loss: 3306497536.0000 - mae: 49599.2852 - val_loss: 3355821824.0000 - val_mae: 49832.7891\n",
            "Epoch 20/100\n",
            "800/800 [==============================] - 2s 3ms/step - loss: 3314405632.0000 - mae: 49638.7734 - val_loss: 3318780416.0000 - val_mae: 49516.9648\n",
            "Epoch 21/100\n",
            "800/800 [==============================] - 2s 3ms/step - loss: 3312570112.0000 - mae: 49591.1133 - val_loss: 3313042688.0000 - val_mae: 49556.7617\n",
            "Epoch 22/100\n",
            "800/800 [==============================] - 2s 3ms/step - loss: 3311281408.0000 - mae: 49661.6602 - val_loss: 3322724096.0000 - val_mae: 49516.1680\n",
            "Epoch 23/100\n",
            "800/800 [==============================] - 2s 2ms/step - loss: 3310816256.0000 - mae: 49614.9492 - val_loss: 3338834432.0000 - val_mae: 49725.1328\n",
            "Epoch 24/100\n",
            "800/800 [==============================] - 2s 2ms/step - loss: 3310172672.0000 - mae: 49599.6953 - val_loss: 3319291392.0000 - val_mae: 49589.7305\n",
            "Epoch 25/100\n",
            "800/800 [==============================] - 2s 3ms/step - loss: 3312167424.0000 - mae: 49631.4062 - val_loss: 3346945280.0000 - val_mae: 49751.1172\n",
            "Epoch 26/100\n",
            "800/800 [==============================] - 2s 2ms/step - loss: 3312851712.0000 - mae: 49682.6562 - val_loss: 3328557568.0000 - val_mae: 49642.7148\n",
            "Epoch 27/100\n",
            "800/800 [==============================] - 2s 2ms/step - loss: 3304347136.0000 - mae: 49565.3008 - val_loss: 3349748736.0000 - val_mae: 49667.2148\n",
            "Epoch 28/100\n",
            "800/800 [==============================] - 2s 2ms/step - loss: 3312723968.0000 - mae: 49648.5781 - val_loss: 3330361856.0000 - val_mae: 49627.2422\n",
            "Epoch 29/100\n",
            "800/800 [==============================] - 2s 2ms/step - loss: 3308489472.0000 - mae: 49628.0234 - val_loss: 3307470592.0000 - val_mae: 49490.5195\n",
            "Epoch 30/100\n",
            "800/800 [==============================] - 2s 2ms/step - loss: 3303909376.0000 - mae: 49571.1055 - val_loss: 3308898816.0000 - val_mae: 49481.6406\n",
            "Epoch 31/100\n",
            "800/800 [==============================] - 2s 2ms/step - loss: 3308177152.0000 - mae: 49604.4648 - val_loss: 3318959872.0000 - val_mae: 49522.5000\n",
            "Epoch 32/100\n",
            "800/800 [==============================] - 2s 2ms/step - loss: 3308574976.0000 - mae: 49630.4062 - val_loss: 3349399808.0000 - val_mae: 49656.3750\n",
            "Epoch 33/100\n",
            "800/800 [==============================] - 2s 2ms/step - loss: 3306010624.0000 - mae: 49623.4688 - val_loss: 3331179008.0000 - val_mae: 49599.8438\n",
            "Epoch 34/100\n",
            "800/800 [==============================] - 2s 2ms/step - loss: 3299537664.0000 - mae: 49588.1523 - val_loss: 3320778752.0000 - val_mae: 49591.9609\n",
            "Epoch 35/100\n",
            "800/800 [==============================] - 2s 2ms/step - loss: 3307021568.0000 - mae: 49639.7734 - val_loss: 3311387136.0000 - val_mae: 49445.2148\n",
            "Epoch 36/100\n",
            "800/800 [==============================] - 2s 2ms/step - loss: 3302019328.0000 - mae: 49538.0469 - val_loss: 3317801984.0000 - val_mae: 49563.0156\n",
            "Epoch 37/100\n",
            "800/800 [==============================] - 2s 2ms/step - loss: 3305213440.0000 - mae: 49600.4844 - val_loss: 3338686464.0000 - val_mae: 49763.1641\n",
            "Epoch 38/100\n",
            "800/800 [==============================] - 2s 2ms/step - loss: 3307013888.0000 - mae: 49557.7852 - val_loss: 3347114496.0000 - val_mae: 49724.7656\n",
            "Epoch 39/100\n",
            "800/800 [==============================] - 2s 2ms/step - loss: 3306400512.0000 - mae: 49606.9883 - val_loss: 3322055680.0000 - val_mae: 49612.2734\n",
            "Epoch 40/100\n",
            "800/800 [==============================] - 3s 3ms/step - loss: 3307244544.0000 - mae: 49637.6914 - val_loss: 3334392832.0000 - val_mae: 49651.3672\n",
            "Epoch 41/100\n",
            "800/800 [==============================] - 2s 2ms/step - loss: 3301039616.0000 - mae: 49543.9922 - val_loss: 3348509440.0000 - val_mae: 49658.5430\n",
            "Epoch 42/100\n",
            "800/800 [==============================] - 2s 2ms/step - loss: 3306188032.0000 - mae: 49550.2109 - val_loss: 3334234368.0000 - val_mae: 49684.0898\n",
            "Epoch 43/100\n",
            "800/800 [==============================] - 2s 3ms/step - loss: 3301256704.0000 - mae: 49542.6055 - val_loss: 3316194816.0000 - val_mae: 49512.8125\n",
            "Epoch 44/100\n",
            "800/800 [==============================] - 2s 2ms/step - loss: 3300689664.0000 - mae: 49522.4805 - val_loss: 3341937152.0000 - val_mae: 49673.9883\n",
            "Epoch 45/100\n",
            "800/800 [==============================] - 2s 3ms/step - loss: 3303817472.0000 - mae: 49612.1211 - val_loss: 3339742976.0000 - val_mae: 49721.7070\n",
            "Epoch 46/100\n",
            "800/800 [==============================] - 2s 3ms/step - loss: 3304078848.0000 - mae: 49569.3359 - val_loss: 3329573632.0000 - val_mae: 49602.1562\n",
            "Epoch 47/100\n",
            "800/800 [==============================] - 2s 2ms/step - loss: 3305142528.0000 - mae: 49567.4492 - val_loss: 3334635776.0000 - val_mae: 49668.2773\n",
            "Epoch 48/100\n",
            "800/800 [==============================] - 2s 2ms/step - loss: 3301638400.0000 - mae: 49581.5234 - val_loss: 3332667136.0000 - val_mae: 49673.7031\n",
            "Epoch 49/100\n",
            "800/800 [==============================] - 2s 2ms/step - loss: 3308829696.0000 - mae: 49578.6250 - val_loss: 3324365568.0000 - val_mae: 49585.7695\n",
            "Epoch 50/100\n",
            "800/800 [==============================] - 2s 2ms/step - loss: 3302317312.0000 - mae: 49559.0781 - val_loss: 3324653824.0000 - val_mae: 49530.6328\n",
            "Epoch 51/100\n",
            "800/800 [==============================] - 2s 3ms/step - loss: 3296918784.0000 - mae: 49506.3984 - val_loss: 3335013888.0000 - val_mae: 49606.6289\n",
            "Epoch 52/100\n",
            "800/800 [==============================] - 2s 2ms/step - loss: 3300929536.0000 - mae: 49566.4141 - val_loss: 3326550016.0000 - val_mae: 49576.7383\n",
            "Epoch 53/100\n",
            "800/800 [==============================] - 2s 3ms/step - loss: 3297288704.0000 - mae: 49522.5391 - val_loss: 3330924544.0000 - val_mae: 49664.3359\n",
            "Epoch 54/100\n",
            "800/800 [==============================] - 2s 2ms/step - loss: 3297569024.0000 - mae: 49536.9492 - val_loss: 3333660928.0000 - val_mae: 49619.3594\n",
            "Epoch 55/100\n",
            "800/800 [==============================] - 2s 2ms/step - loss: 3301287936.0000 - mae: 49529.1641 - val_loss: 3318066944.0000 - val_mae: 49537.6289\n",
            "Epoch 56/100\n",
            "800/800 [==============================] - 2s 2ms/step - loss: 3303207424.0000 - mae: 49609.8633 - val_loss: 3323548416.0000 - val_mae: 49589.8008\n",
            "Epoch 57/100\n",
            "800/800 [==============================] - 2s 2ms/step - loss: 3299611136.0000 - mae: 49486.2695 - val_loss: 3341636864.0000 - val_mae: 49711.8750\n",
            "Epoch 58/100\n",
            "800/800 [==============================] - 2s 3ms/step - loss: 3301337344.0000 - mae: 49567.5664 - val_loss: 3326804992.0000 - val_mae: 49508.9961\n",
            "Epoch 59/100\n",
            "800/800 [==============================] - 2s 2ms/step - loss: 3299947008.0000 - mae: 49525.4922 - val_loss: 3361893376.0000 - val_mae: 49882.9961\n",
            "Epoch 60/100\n",
            "800/800 [==============================] - 2s 2ms/step - loss: 3294386176.0000 - mae: 49531.2539 - val_loss: 3369125376.0000 - val_mae: 49821.1328\n",
            "Epoch 61/100\n",
            "800/800 [==============================] - 2s 2ms/step - loss: 3298668032.0000 - mae: 49537.6133 - val_loss: 3337982720.0000 - val_mae: 49739.6602\n",
            "Epoch 62/100\n",
            "800/800 [==============================] - 2s 2ms/step - loss: 3301283584.0000 - mae: 49538.6406 - val_loss: 3327963904.0000 - val_mae: 49544.8125\n",
            "Epoch 63/100\n",
            "800/800 [==============================] - 2s 2ms/step - loss: 3298811136.0000 - mae: 49587.7695 - val_loss: 3337021440.0000 - val_mae: 49749.7070\n",
            "Epoch 64/100\n",
            "800/800 [==============================] - 2s 2ms/step - loss: 3294912768.0000 - mae: 49504.9062 - val_loss: 3393121280.0000 - val_mae: 50060.9805\n",
            "Epoch 65/100\n",
            "800/800 [==============================] - 2s 2ms/step - loss: 3299445760.0000 - mae: 49551.2070 - val_loss: 3330438912.0000 - val_mae: 49625.6602\n",
            "Epoch 66/100\n",
            "800/800 [==============================] - 2s 2ms/step - loss: 3303368192.0000 - mae: 49568.0352 - val_loss: 3325179904.0000 - val_mae: 49560.3828\n",
            "Epoch 67/100\n",
            "800/800 [==============================] - 2s 2ms/step - loss: 3297330176.0000 - mae: 49536.5977 - val_loss: 3345690112.0000 - val_mae: 49741.0117\n",
            "Epoch 68/100\n",
            "800/800 [==============================] - 2s 3ms/step - loss: 3298961664.0000 - mae: 49541.2617 - val_loss: 3338263808.0000 - val_mae: 49665.6641\n",
            "Epoch 69/100\n",
            "800/800 [==============================] - 2s 3ms/step - loss: 3298883840.0000 - mae: 49563.3516 - val_loss: 3327843072.0000 - val_mae: 49608.9023\n",
            "Epoch 70/100\n",
            "800/800 [==============================] - 2s 2ms/step - loss: 3296649216.0000 - mae: 49583.4844 - val_loss: 3334674688.0000 - val_mae: 49631.9062\n",
            "Epoch 71/100\n",
            "800/800 [==============================] - 2s 3ms/step - loss: 3302312448.0000 - mae: 49538.5078 - val_loss: 3318803456.0000 - val_mae: 49510.3633\n",
            "Epoch 72/100\n",
            "800/800 [==============================] - 2s 3ms/step - loss: 3297797120.0000 - mae: 49541.9844 - val_loss: 3327596544.0000 - val_mae: 49593.6992\n",
            "Epoch 73/100\n",
            "800/800 [==============================] - 2s 3ms/step - loss: 3300846848.0000 - mae: 49579.9805 - val_loss: 3326453248.0000 - val_mae: 49621.9453\n",
            "Epoch 74/100\n",
            "800/800 [==============================] - 2s 3ms/step - loss: 3299587584.0000 - mae: 49529.4219 - val_loss: 3345709312.0000 - val_mae: 49720.2656\n",
            "Epoch 75/100\n",
            "800/800 [==============================] - 2s 2ms/step - loss: 3298310144.0000 - mae: 49545.6016 - val_loss: 3323242496.0000 - val_mae: 49556.7148\n",
            "Epoch 76/100\n",
            "800/800 [==============================] - 2s 2ms/step - loss: 3295884800.0000 - mae: 49522.6758 - val_loss: 3350797824.0000 - val_mae: 49696.5586\n",
            "Epoch 77/100\n",
            "800/800 [==============================] - 2s 2ms/step - loss: 3293383680.0000 - mae: 49450.8867 - val_loss: 3343681280.0000 - val_mae: 49695.7383\n",
            "Epoch 78/100\n",
            "800/800 [==============================] - 2s 3ms/step - loss: 3296434944.0000 - mae: 49490.1914 - val_loss: 3328229632.0000 - val_mae: 49590.5117\n",
            "Epoch 79/100\n",
            "800/800 [==============================] - 2s 2ms/step - loss: 3300422912.0000 - mae: 49550.5195 - val_loss: 3375759104.0000 - val_mae: 49855.5391\n",
            "Epoch 80/100\n",
            "800/800 [==============================] - 2s 3ms/step - loss: 3298520064.0000 - mae: 49521.9961 - val_loss: 3378239232.0000 - val_mae: 49864.2539\n",
            "Epoch 81/100\n",
            "800/800 [==============================] - 2s 3ms/step - loss: 3290103808.0000 - mae: 49444.8867 - val_loss: 3335749376.0000 - val_mae: 49612.3398\n",
            "Epoch 82/100\n",
            "800/800 [==============================] - 2s 2ms/step - loss: 3296057344.0000 - mae: 49523.9258 - val_loss: 3334490880.0000 - val_mae: 49650.4922\n",
            "Epoch 83/100\n",
            "800/800 [==============================] - 2s 2ms/step - loss: 3297325312.0000 - mae: 49524.4336 - val_loss: 3329142016.0000 - val_mae: 49640.4570\n",
            "Epoch 84/100\n",
            "800/800 [==============================] - 2s 3ms/step - loss: 3291815680.0000 - mae: 49505.5977 - val_loss: 3325889280.0000 - val_mae: 49612.8945\n",
            "Epoch 85/100\n",
            "800/800 [==============================] - 2s 2ms/step - loss: 3298736128.0000 - mae: 49551.6211 - val_loss: 3333485824.0000 - val_mae: 49657.9531\n",
            "Epoch 86/100\n",
            "800/800 [==============================] - 2s 3ms/step - loss: 3298159616.0000 - mae: 49569.5391 - val_loss: 3335334144.0000 - val_mae: 49675.6211\n",
            "Epoch 87/100\n",
            "800/800 [==============================] - 2s 3ms/step - loss: 3298740480.0000 - mae: 49546.4727 - val_loss: 3342866176.0000 - val_mae: 49795.9844\n",
            "Epoch 88/100\n",
            "800/800 [==============================] - 2s 3ms/step - loss: 3298668032.0000 - mae: 49558.0156 - val_loss: 3333964800.0000 - val_mae: 49670.2578\n",
            "Epoch 89/100\n",
            "800/800 [==============================] - 2s 3ms/step - loss: 3294630912.0000 - mae: 49518.7539 - val_loss: 3339355904.0000 - val_mae: 49699.0859\n",
            "Epoch 90/100\n",
            "800/800 [==============================] - 2s 3ms/step - loss: 3295095552.0000 - mae: 49534.6484 - val_loss: 3344017664.0000 - val_mae: 49650.3594\n",
            "Epoch 91/100\n",
            "800/800 [==============================] - 2s 2ms/step - loss: 3296123648.0000 - mae: 49541.5391 - val_loss: 3326698752.0000 - val_mae: 49535.1250\n",
            "Epoch 92/100\n",
            "800/800 [==============================] - 2s 3ms/step - loss: 3293463808.0000 - mae: 49504.4766 - val_loss: 3341083392.0000 - val_mae: 49748.8828\n",
            "Epoch 93/100\n",
            "800/800 [==============================] - 3s 3ms/step - loss: 3297215232.0000 - mae: 49573.7148 - val_loss: 3344255232.0000 - val_mae: 49757.7266\n",
            "Epoch 94/100\n",
            "800/800 [==============================] - 2s 3ms/step - loss: 3297888768.0000 - mae: 49532.6289 - val_loss: 3344661504.0000 - val_mae: 49778.8906\n",
            "Epoch 95/100\n",
            "800/800 [==============================] - 2s 3ms/step - loss: 3296997632.0000 - mae: 49537.1836 - val_loss: 3343479296.0000 - val_mae: 49789.9336\n",
            "Epoch 96/100\n",
            "800/800 [==============================] - 2s 3ms/step - loss: 3290991104.0000 - mae: 49461.0977 - val_loss: 3357791488.0000 - val_mae: 49909.1836\n",
            "Epoch 97/100\n",
            "800/800 [==============================] - 2s 2ms/step - loss: 3292695296.0000 - mae: 49491.2734 - val_loss: 3339097600.0000 - val_mae: 49754.4883\n",
            "Epoch 98/100\n",
            "800/800 [==============================] - 2s 2ms/step - loss: 3292517888.0000 - mae: 49502.9609 - val_loss: 3357521408.0000 - val_mae: 49767.0898\n",
            "Epoch 99/100\n",
            "800/800 [==============================] - 2s 2ms/step - loss: 3290434304.0000 - mae: 49486.8750 - val_loss: 3334005248.0000 - val_mae: 49724.0742\n",
            "Epoch 100/100\n",
            "800/800 [==============================] - 2s 2ms/step - loss: 3294555904.0000 - mae: 49512.9609 - val_loss: 3333180160.0000 - val_mae: 49697.7461\n"
          ]
        }
      ]
    },
    {
      "cell_type": "code",
      "source": [
        "y_test"
      ],
      "metadata": {
        "colab": {
          "base_uri": "https://localhost:8080/"
        },
        "id": "s2lyCToJMSjw",
        "outputId": "be0f0d3f-dce1-4fa2-baac-68a2b369a01d"
      },
      "execution_count": 71,
      "outputs": [
        {
          "output_type": "execute_result",
          "data": {
            "text/plain": [
              "9394    192852.67\n",
              "898     128702.10\n",
              "2398     75732.25\n",
              "5906     89368.59\n",
              "2343    135662.17\n",
              "          ...    \n",
              "1037    180969.55\n",
              "2899     70760.69\n",
              "9549    141533.19\n",
              "2740     11276.48\n",
              "6690    192950.60\n",
              "Name: EstimatedSalary, Length: 2000, dtype: float64"
            ]
          },
          "metadata": {},
          "execution_count": 71
        }
      ]
    },
    {
      "cell_type": "code",
      "source": [
        "y_pred=regressor.predict(X_test)"
      ],
      "metadata": {
        "id": "ZbhzG-U0JiwU"
      },
      "execution_count": 72,
      "outputs": []
    },
    {
      "cell_type": "code",
      "source": [
        "y_pred"
      ],
      "metadata": {
        "colab": {
          "base_uri": "https://localhost:8080/"
        },
        "id": "YPqoxMzJOH5h",
        "outputId": "9072f63d-d014-456d-8914-5734be7d3b06"
      },
      "execution_count": 73,
      "outputs": [
        {
          "output_type": "execute_result",
          "data": {
            "text/plain": [
              "array([[106229.86 ],\n",
              "       [107932.18 ],\n",
              "       [ 85927.9  ],\n",
              "       ...,\n",
              "       [ 94218.79 ],\n",
              "       [ 96351.805],\n",
              "       [ 98430.73 ]], dtype=float32)"
            ]
          },
          "metadata": {},
          "execution_count": 73
        }
      ]
    },
    {
      "cell_type": "code",
      "source": [
        "from sklearn.metrics import r2_score"
      ],
      "metadata": {
        "id": "JopqXPDbKsn3"
      },
      "execution_count": 74,
      "outputs": []
    },
    {
      "cell_type": "code",
      "source": [
        "print(r2_score(y_test,y_pred))"
      ],
      "metadata": {
        "colab": {
          "base_uri": "https://localhost:8080/"
        },
        "id": "pbu6nl1BK0Xa",
        "outputId": "463b6067-667a-4a36-867e-9c6f1f8d6396"
      },
      "execution_count": 75,
      "outputs": [
        {
          "output_type": "stream",
          "name": "stdout",
          "text": [
            "-0.01175041600540383\n"
          ]
        }
      ]
    },
    {
      "cell_type": "code",
      "source": [
        "pd.DataFrame(X_train)"
      ],
      "metadata": {
        "colab": {
          "base_uri": "https://localhost:8080/",
          "height": 424
        },
        "id": "L-NUxKQuK3p-",
        "outputId": "68826a26-caba-4373-a4c3-60cf18579aa6"
      },
      "execution_count": 76,
      "outputs": [
        {
          "output_type": "execute_result",
          "data": {
            "text/plain": [
              "            0         1         2         3         4         5         6   \\\n",
              "0     0.169582 -0.464608  0.006661 -1.215717  0.809503  0.642595 -1.032270   \n",
              "1    -2.304559  0.301026 -1.377440 -0.006312 -0.921591  0.642595  0.968738   \n",
              "2    -1.191196 -0.943129 -1.031415  0.579935 -0.921591  0.642595 -1.032270   \n",
              "3     0.035566  0.109617  0.006661  0.473128 -0.921591  0.642595 -1.032270   \n",
              "4     2.056114  1.736588  1.044737  0.810193  0.809503  0.642595  0.968738   \n",
              "...        ...       ...       ...       ...       ...       ...       ...   \n",
              "7995 -0.582970 -0.656016 -0.339364  0.703104  0.809503  0.642595  0.968738   \n",
              "7996  1.478815 -1.613058 -0.339364  0.613060 -0.921591  0.642595  0.968738   \n",
              "7997  0.901515 -0.368904  0.006661  1.361474  0.809503  0.642595 -1.032270   \n",
              "7998 -0.624205 -0.081791  1.390762 -1.215717  0.809503  0.642595  0.968738   \n",
              "7999 -0.284011  0.875251 -1.377440  0.511364 -0.921591  0.642595 -1.032270   \n",
              "\n",
              "            7         8         9         10  \n",
              "0    -0.506242 -0.569844  1.743090 -1.091687  \n",
              "1    -0.506242  1.754865 -0.573694  0.916013  \n",
              "2    -0.506242 -0.569844 -0.573694 -1.091687  \n",
              "3    -0.506242 -0.569844  1.743090  0.916013  \n",
              "4    -0.506242 -0.569844  1.743090 -1.091687  \n",
              "...        ...       ...       ...       ...  \n",
              "7995 -0.506242  1.754865 -0.573694 -1.091687  \n",
              "7996 -0.506242 -0.569844  1.743090 -1.091687  \n",
              "7997 -0.506242 -0.569844 -0.573694  0.916013  \n",
              "7998 -0.506242 -0.569844  1.743090 -1.091687  \n",
              "7999  1.975338  1.754865 -0.573694 -1.091687  \n",
              "\n",
              "[8000 rows x 11 columns]"
            ],
            "text/html": [
              "\n",
              "  <div id=\"df-951a111b-2a76-48ce-8485-f1b83c0b697c\">\n",
              "    <div class=\"colab-df-container\">\n",
              "      <div>\n",
              "<style scoped>\n",
              "    .dataframe tbody tr th:only-of-type {\n",
              "        vertical-align: middle;\n",
              "    }\n",
              "\n",
              "    .dataframe tbody tr th {\n",
              "        vertical-align: top;\n",
              "    }\n",
              "\n",
              "    .dataframe thead th {\n",
              "        text-align: right;\n",
              "    }\n",
              "</style>\n",
              "<table border=\"1\" class=\"dataframe\">\n",
              "  <thead>\n",
              "    <tr style=\"text-align: right;\">\n",
              "      <th></th>\n",
              "      <th>0</th>\n",
              "      <th>1</th>\n",
              "      <th>2</th>\n",
              "      <th>3</th>\n",
              "      <th>4</th>\n",
              "      <th>5</th>\n",
              "      <th>6</th>\n",
              "      <th>7</th>\n",
              "      <th>8</th>\n",
              "      <th>9</th>\n",
              "      <th>10</th>\n",
              "    </tr>\n",
              "  </thead>\n",
              "  <tbody>\n",
              "    <tr>\n",
              "      <th>0</th>\n",
              "      <td>0.169582</td>\n",
              "      <td>-0.464608</td>\n",
              "      <td>0.006661</td>\n",
              "      <td>-1.215717</td>\n",
              "      <td>0.809503</td>\n",
              "      <td>0.642595</td>\n",
              "      <td>-1.032270</td>\n",
              "      <td>-0.506242</td>\n",
              "      <td>-0.569844</td>\n",
              "      <td>1.743090</td>\n",
              "      <td>-1.091687</td>\n",
              "    </tr>\n",
              "    <tr>\n",
              "      <th>1</th>\n",
              "      <td>-2.304559</td>\n",
              "      <td>0.301026</td>\n",
              "      <td>-1.377440</td>\n",
              "      <td>-0.006312</td>\n",
              "      <td>-0.921591</td>\n",
              "      <td>0.642595</td>\n",
              "      <td>0.968738</td>\n",
              "      <td>-0.506242</td>\n",
              "      <td>1.754865</td>\n",
              "      <td>-0.573694</td>\n",
              "      <td>0.916013</td>\n",
              "    </tr>\n",
              "    <tr>\n",
              "      <th>2</th>\n",
              "      <td>-1.191196</td>\n",
              "      <td>-0.943129</td>\n",
              "      <td>-1.031415</td>\n",
              "      <td>0.579935</td>\n",
              "      <td>-0.921591</td>\n",
              "      <td>0.642595</td>\n",
              "      <td>-1.032270</td>\n",
              "      <td>-0.506242</td>\n",
              "      <td>-0.569844</td>\n",
              "      <td>-0.573694</td>\n",
              "      <td>-1.091687</td>\n",
              "    </tr>\n",
              "    <tr>\n",
              "      <th>3</th>\n",
              "      <td>0.035566</td>\n",
              "      <td>0.109617</td>\n",
              "      <td>0.006661</td>\n",
              "      <td>0.473128</td>\n",
              "      <td>-0.921591</td>\n",
              "      <td>0.642595</td>\n",
              "      <td>-1.032270</td>\n",
              "      <td>-0.506242</td>\n",
              "      <td>-0.569844</td>\n",
              "      <td>1.743090</td>\n",
              "      <td>0.916013</td>\n",
              "    </tr>\n",
              "    <tr>\n",
              "      <th>4</th>\n",
              "      <td>2.056114</td>\n",
              "      <td>1.736588</td>\n",
              "      <td>1.044737</td>\n",
              "      <td>0.810193</td>\n",
              "      <td>0.809503</td>\n",
              "      <td>0.642595</td>\n",
              "      <td>0.968738</td>\n",
              "      <td>-0.506242</td>\n",
              "      <td>-0.569844</td>\n",
              "      <td>1.743090</td>\n",
              "      <td>-1.091687</td>\n",
              "    </tr>\n",
              "    <tr>\n",
              "      <th>...</th>\n",
              "      <td>...</td>\n",
              "      <td>...</td>\n",
              "      <td>...</td>\n",
              "      <td>...</td>\n",
              "      <td>...</td>\n",
              "      <td>...</td>\n",
              "      <td>...</td>\n",
              "      <td>...</td>\n",
              "      <td>...</td>\n",
              "      <td>...</td>\n",
              "      <td>...</td>\n",
              "    </tr>\n",
              "    <tr>\n",
              "      <th>7995</th>\n",
              "      <td>-0.582970</td>\n",
              "      <td>-0.656016</td>\n",
              "      <td>-0.339364</td>\n",
              "      <td>0.703104</td>\n",
              "      <td>0.809503</td>\n",
              "      <td>0.642595</td>\n",
              "      <td>0.968738</td>\n",
              "      <td>-0.506242</td>\n",
              "      <td>1.754865</td>\n",
              "      <td>-0.573694</td>\n",
              "      <td>-1.091687</td>\n",
              "    </tr>\n",
              "    <tr>\n",
              "      <th>7996</th>\n",
              "      <td>1.478815</td>\n",
              "      <td>-1.613058</td>\n",
              "      <td>-0.339364</td>\n",
              "      <td>0.613060</td>\n",
              "      <td>-0.921591</td>\n",
              "      <td>0.642595</td>\n",
              "      <td>0.968738</td>\n",
              "      <td>-0.506242</td>\n",
              "      <td>-0.569844</td>\n",
              "      <td>1.743090</td>\n",
              "      <td>-1.091687</td>\n",
              "    </tr>\n",
              "    <tr>\n",
              "      <th>7997</th>\n",
              "      <td>0.901515</td>\n",
              "      <td>-0.368904</td>\n",
              "      <td>0.006661</td>\n",
              "      <td>1.361474</td>\n",
              "      <td>0.809503</td>\n",
              "      <td>0.642595</td>\n",
              "      <td>-1.032270</td>\n",
              "      <td>-0.506242</td>\n",
              "      <td>-0.569844</td>\n",
              "      <td>-0.573694</td>\n",
              "      <td>0.916013</td>\n",
              "    </tr>\n",
              "    <tr>\n",
              "      <th>7998</th>\n",
              "      <td>-0.624205</td>\n",
              "      <td>-0.081791</td>\n",
              "      <td>1.390762</td>\n",
              "      <td>-1.215717</td>\n",
              "      <td>0.809503</td>\n",
              "      <td>0.642595</td>\n",
              "      <td>0.968738</td>\n",
              "      <td>-0.506242</td>\n",
              "      <td>-0.569844</td>\n",
              "      <td>1.743090</td>\n",
              "      <td>-1.091687</td>\n",
              "    </tr>\n",
              "    <tr>\n",
              "      <th>7999</th>\n",
              "      <td>-0.284011</td>\n",
              "      <td>0.875251</td>\n",
              "      <td>-1.377440</td>\n",
              "      <td>0.511364</td>\n",
              "      <td>-0.921591</td>\n",
              "      <td>0.642595</td>\n",
              "      <td>-1.032270</td>\n",
              "      <td>1.975338</td>\n",
              "      <td>1.754865</td>\n",
              "      <td>-0.573694</td>\n",
              "      <td>-1.091687</td>\n",
              "    </tr>\n",
              "  </tbody>\n",
              "</table>\n",
              "<p>8000 rows × 11 columns</p>\n",
              "</div>\n",
              "      <button class=\"colab-df-convert\" onclick=\"convertToInteractive('df-951a111b-2a76-48ce-8485-f1b83c0b697c')\"\n",
              "              title=\"Convert this dataframe to an interactive table.\"\n",
              "              style=\"display:none;\">\n",
              "        \n",
              "  <svg xmlns=\"http://www.w3.org/2000/svg\" height=\"24px\"viewBox=\"0 0 24 24\"\n",
              "       width=\"24px\">\n",
              "    <path d=\"M0 0h24v24H0V0z\" fill=\"none\"/>\n",
              "    <path d=\"M18.56 5.44l.94 2.06.94-2.06 2.06-.94-2.06-.94-.94-2.06-.94 2.06-2.06.94zm-11 1L8.5 8.5l.94-2.06 2.06-.94-2.06-.94L8.5 2.5l-.94 2.06-2.06.94zm10 10l.94 2.06.94-2.06 2.06-.94-2.06-.94-.94-2.06-.94 2.06-2.06.94z\"/><path d=\"M17.41 7.96l-1.37-1.37c-.4-.4-.92-.59-1.43-.59-.52 0-1.04.2-1.43.59L10.3 9.45l-7.72 7.72c-.78.78-.78 2.05 0 2.83L4 21.41c.39.39.9.59 1.41.59.51 0 1.02-.2 1.41-.59l7.78-7.78 2.81-2.81c.8-.78.8-2.07 0-2.86zM5.41 20L4 18.59l7.72-7.72 1.47 1.35L5.41 20z\"/>\n",
              "  </svg>\n",
              "      </button>\n",
              "      \n",
              "  <style>\n",
              "    .colab-df-container {\n",
              "      display:flex;\n",
              "      flex-wrap:wrap;\n",
              "      gap: 12px;\n",
              "    }\n",
              "\n",
              "    .colab-df-convert {\n",
              "      background-color: #E8F0FE;\n",
              "      border: none;\n",
              "      border-radius: 50%;\n",
              "      cursor: pointer;\n",
              "      display: none;\n",
              "      fill: #1967D2;\n",
              "      height: 32px;\n",
              "      padding: 0 0 0 0;\n",
              "      width: 32px;\n",
              "    }\n",
              "\n",
              "    .colab-df-convert:hover {\n",
              "      background-color: #E2EBFA;\n",
              "      box-shadow: 0px 1px 2px rgba(60, 64, 67, 0.3), 0px 1px 3px 1px rgba(60, 64, 67, 0.15);\n",
              "      fill: #174EA6;\n",
              "    }\n",
              "\n",
              "    [theme=dark] .colab-df-convert {\n",
              "      background-color: #3B4455;\n",
              "      fill: #D2E3FC;\n",
              "    }\n",
              "\n",
              "    [theme=dark] .colab-df-convert:hover {\n",
              "      background-color: #434B5C;\n",
              "      box-shadow: 0px 1px 3px 1px rgba(0, 0, 0, 0.15);\n",
              "      filter: drop-shadow(0px 1px 2px rgba(0, 0, 0, 0.3));\n",
              "      fill: #FFFFFF;\n",
              "    }\n",
              "  </style>\n",
              "\n",
              "      <script>\n",
              "        const buttonEl =\n",
              "          document.querySelector('#df-951a111b-2a76-48ce-8485-f1b83c0b697c button.colab-df-convert');\n",
              "        buttonEl.style.display =\n",
              "          google.colab.kernel.accessAllowed ? 'block' : 'none';\n",
              "\n",
              "        async function convertToInteractive(key) {\n",
              "          const element = document.querySelector('#df-951a111b-2a76-48ce-8485-f1b83c0b697c');\n",
              "          const dataTable =\n",
              "            await google.colab.kernel.invokeFunction('convertToInteractive',\n",
              "                                                     [key], {});\n",
              "          if (!dataTable) return;\n",
              "\n",
              "          const docLinkHtml = 'Like what you see? Visit the ' +\n",
              "            '<a target=\"_blank\" href=https://colab.research.google.com/notebooks/data_table.ipynb>data table notebook</a>'\n",
              "            + ' to learn more about interactive tables.';\n",
              "          element.innerHTML = '';\n",
              "          dataTable['output_type'] = 'display_data';\n",
              "          await google.colab.output.renderOutput(dataTable, element);\n",
              "          const docLink = document.createElement('div');\n",
              "          docLink.innerHTML = docLinkHtml;\n",
              "          element.appendChild(docLink);\n",
              "        }\n",
              "      </script>\n",
              "    </div>\n",
              "  </div>\n",
              "  "
            ]
          },
          "metadata": {},
          "execution_count": 76
        }
      ]
    },
    {
      "cell_type": "code",
      "source": [],
      "metadata": {
        "id": "rhIqv5meN0SZ"
      },
      "execution_count": null,
      "outputs": []
    }
  ]
}